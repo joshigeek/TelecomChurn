{
 "cells": [
  {
   "cell_type": "markdown",
   "id": "44c2a7ab",
   "metadata": {},
   "source": [
    "## Telecom Chrun Group  - Case Study\n",
    "\n",
    "The main goal of the case study is to build ML models to predict churn, generated model/summary will be used for following:\n",
    "- To predict whether a high-value customer will churn or not, in near future.\n",
    "- It will be used to identify important variables that are strong predictors of churn.\n",
    "- These variables may also indicate why customers choose to switch to other networks\n",
    "- Recommend strategies to manage customer churn based on your observations\n",
    "\n",
    "### Steps followed:\n",
    "* Data Cleaning\n",
    "* Feature Analysis\n",
    "* Correlation analysis\n",
    "* Build models for prediction \n",
    "* Summary"
   ]
  },
  {
   "cell_type": "code",
   "execution_count": 1,
   "id": "4d3c76d8",
   "metadata": {},
   "outputs": [],
   "source": [
    "# Importing Pandas and NumPy\n",
    "import pandas as pd\n",
    "import numpy as np\n",
    "import matplotlib.pyplot as plt\n",
    "import seaborn as sns\n",
    "\n",
    "from sklearn.model_selection import train_test_split\n",
    "from sklearn.decomposition import PCA\n",
    "from sklearn.decomposition import IncrementalPCA\n",
    "\n",
    "from sklearn.linear_model import LogisticRegression\n",
    "from sklearn import metrics\n",
    "from sklearn.preprocessing import StandardScaler\n",
    "\n",
    "from sklearn.ensemble import RandomForestClassifier\n",
    "from sklearn.model_selection import GridSearchCV\n",
    "from sklearn.metrics import plot_roc_curve\n",
    "from sklearn.metrics import confusion_matrix, accuracy_score\n",
    "\n",
    "from imblearn.over_sampling import SMOTE \n",
    "\n",
    "import warnings\n",
    "warnings.filterwarnings('ignore')"
   ]
  },
  {
   "cell_type": "code",
   "execution_count": 2,
   "id": "66c9406a",
   "metadata": {},
   "outputs": [],
   "source": [
    "telecom_df = pd.read_csv(\"train.csv\")"
   ]
  },
  {
   "cell_type": "code",
   "execution_count": 3,
   "id": "bf8f4d08",
   "metadata": {},
   "outputs": [
    {
     "data": {
      "text/plain": [
       "(69999, 172)"
      ]
     },
     "execution_count": 3,
     "metadata": {},
     "output_type": "execute_result"
    }
   ],
   "source": [
    "telecom_df.shape"
   ]
  },
  {
   "cell_type": "code",
   "execution_count": 4,
   "id": "c48b16aa",
   "metadata": {},
   "outputs": [
    {
     "data": {
      "text/html": [
       "<div>\n",
       "<style scoped>\n",
       "    .dataframe tbody tr th:only-of-type {\n",
       "        vertical-align: middle;\n",
       "    }\n",
       "\n",
       "    .dataframe tbody tr th {\n",
       "        vertical-align: top;\n",
       "    }\n",
       "\n",
       "    .dataframe thead th {\n",
       "        text-align: right;\n",
       "    }\n",
       "</style>\n",
       "<table border=\"1\" class=\"dataframe\">\n",
       "  <thead>\n",
       "    <tr style=\"text-align: right;\">\n",
       "      <th></th>\n",
       "      <th>id</th>\n",
       "      <th>circle_id</th>\n",
       "      <th>loc_og_t2o_mou</th>\n",
       "      <th>std_og_t2o_mou</th>\n",
       "      <th>loc_ic_t2o_mou</th>\n",
       "      <th>arpu_6</th>\n",
       "      <th>arpu_7</th>\n",
       "      <th>arpu_8</th>\n",
       "      <th>onnet_mou_6</th>\n",
       "      <th>onnet_mou_7</th>\n",
       "      <th>...</th>\n",
       "      <th>sachet_3g_7</th>\n",
       "      <th>sachet_3g_8</th>\n",
       "      <th>fb_user_6</th>\n",
       "      <th>fb_user_7</th>\n",
       "      <th>fb_user_8</th>\n",
       "      <th>aon</th>\n",
       "      <th>aug_vbc_3g</th>\n",
       "      <th>jul_vbc_3g</th>\n",
       "      <th>jun_vbc_3g</th>\n",
       "      <th>churn_probability</th>\n",
       "    </tr>\n",
       "  </thead>\n",
       "  <tbody>\n",
       "    <tr>\n",
       "      <th>count</th>\n",
       "      <td>69999.000000</td>\n",
       "      <td>69999.0</td>\n",
       "      <td>69297.0</td>\n",
       "      <td>69297.0</td>\n",
       "      <td>69297.0</td>\n",
       "      <td>69999.000000</td>\n",
       "      <td>69999.000000</td>\n",
       "      <td>69999.000000</td>\n",
       "      <td>67231.000000</td>\n",
       "      <td>67312.000000</td>\n",
       "      <td>...</td>\n",
       "      <td>69999.000000</td>\n",
       "      <td>69999.000000</td>\n",
       "      <td>17568.000000</td>\n",
       "      <td>17865.000000</td>\n",
       "      <td>18417.000000</td>\n",
       "      <td>69999.000000</td>\n",
       "      <td>69999.000000</td>\n",
       "      <td>69999.000000</td>\n",
       "      <td>69999.00000</td>\n",
       "      <td>69999.000000</td>\n",
       "    </tr>\n",
       "    <tr>\n",
       "      <th>mean</th>\n",
       "      <td>34999.000000</td>\n",
       "      <td>109.0</td>\n",
       "      <td>0.0</td>\n",
       "      <td>0.0</td>\n",
       "      <td>0.0</td>\n",
       "      <td>283.134365</td>\n",
       "      <td>278.185912</td>\n",
       "      <td>278.858826</td>\n",
       "      <td>133.153275</td>\n",
       "      <td>133.894438</td>\n",
       "      <td>...</td>\n",
       "      <td>0.081444</td>\n",
       "      <td>0.085487</td>\n",
       "      <td>0.916325</td>\n",
       "      <td>0.909544</td>\n",
       "      <td>0.890319</td>\n",
       "      <td>1220.639709</td>\n",
       "      <td>68.108597</td>\n",
       "      <td>65.935830</td>\n",
       "      <td>60.07674</td>\n",
       "      <td>0.101887</td>\n",
       "    </tr>\n",
       "    <tr>\n",
       "      <th>std</th>\n",
       "      <td>20207.115084</td>\n",
       "      <td>0.0</td>\n",
       "      <td>0.0</td>\n",
       "      <td>0.0</td>\n",
       "      <td>0.0</td>\n",
       "      <td>334.213918</td>\n",
       "      <td>344.366927</td>\n",
       "      <td>351.924315</td>\n",
       "      <td>299.963093</td>\n",
       "      <td>311.277193</td>\n",
       "      <td>...</td>\n",
       "      <td>0.634547</td>\n",
       "      <td>0.680035</td>\n",
       "      <td>0.276907</td>\n",
       "      <td>0.286842</td>\n",
       "      <td>0.312501</td>\n",
       "      <td>952.426321</td>\n",
       "      <td>269.328659</td>\n",
       "      <td>267.899034</td>\n",
       "      <td>257.22681</td>\n",
       "      <td>0.302502</td>\n",
       "    </tr>\n",
       "    <tr>\n",
       "      <th>min</th>\n",
       "      <td>0.000000</td>\n",
       "      <td>109.0</td>\n",
       "      <td>0.0</td>\n",
       "      <td>0.0</td>\n",
       "      <td>0.0</td>\n",
       "      <td>-2258.709000</td>\n",
       "      <td>-1289.715000</td>\n",
       "      <td>-945.808000</td>\n",
       "      <td>0.000000</td>\n",
       "      <td>0.000000</td>\n",
       "      <td>...</td>\n",
       "      <td>0.000000</td>\n",
       "      <td>0.000000</td>\n",
       "      <td>0.000000</td>\n",
       "      <td>0.000000</td>\n",
       "      <td>0.000000</td>\n",
       "      <td>180.000000</td>\n",
       "      <td>0.000000</td>\n",
       "      <td>0.000000</td>\n",
       "      <td>0.00000</td>\n",
       "      <td>0.000000</td>\n",
       "    </tr>\n",
       "    <tr>\n",
       "      <th>25%</th>\n",
       "      <td>17499.500000</td>\n",
       "      <td>109.0</td>\n",
       "      <td>0.0</td>\n",
       "      <td>0.0</td>\n",
       "      <td>0.0</td>\n",
       "      <td>93.581000</td>\n",
       "      <td>86.714000</td>\n",
       "      <td>84.095000</td>\n",
       "      <td>7.410000</td>\n",
       "      <td>6.675000</td>\n",
       "      <td>...</td>\n",
       "      <td>0.000000</td>\n",
       "      <td>0.000000</td>\n",
       "      <td>1.000000</td>\n",
       "      <td>1.000000</td>\n",
       "      <td>1.000000</td>\n",
       "      <td>468.000000</td>\n",
       "      <td>0.000000</td>\n",
       "      <td>0.000000</td>\n",
       "      <td>0.00000</td>\n",
       "      <td>0.000000</td>\n",
       "    </tr>\n",
       "    <tr>\n",
       "      <th>50%</th>\n",
       "      <td>34999.000000</td>\n",
       "      <td>109.0</td>\n",
       "      <td>0.0</td>\n",
       "      <td>0.0</td>\n",
       "      <td>0.0</td>\n",
       "      <td>197.484000</td>\n",
       "      <td>191.588000</td>\n",
       "      <td>192.234000</td>\n",
       "      <td>34.110000</td>\n",
       "      <td>32.280000</td>\n",
       "      <td>...</td>\n",
       "      <td>0.000000</td>\n",
       "      <td>0.000000</td>\n",
       "      <td>1.000000</td>\n",
       "      <td>1.000000</td>\n",
       "      <td>1.000000</td>\n",
       "      <td>868.000000</td>\n",
       "      <td>0.000000</td>\n",
       "      <td>0.000000</td>\n",
       "      <td>0.00000</td>\n",
       "      <td>0.000000</td>\n",
       "    </tr>\n",
       "    <tr>\n",
       "      <th>75%</th>\n",
       "      <td>52498.500000</td>\n",
       "      <td>109.0</td>\n",
       "      <td>0.0</td>\n",
       "      <td>0.0</td>\n",
       "      <td>0.0</td>\n",
       "      <td>370.791000</td>\n",
       "      <td>365.369500</td>\n",
       "      <td>369.909000</td>\n",
       "      <td>119.390000</td>\n",
       "      <td>115.837500</td>\n",
       "      <td>...</td>\n",
       "      <td>0.000000</td>\n",
       "      <td>0.000000</td>\n",
       "      <td>1.000000</td>\n",
       "      <td>1.000000</td>\n",
       "      <td>1.000000</td>\n",
       "      <td>1813.000000</td>\n",
       "      <td>0.000000</td>\n",
       "      <td>0.000000</td>\n",
       "      <td>0.00000</td>\n",
       "      <td>0.000000</td>\n",
       "    </tr>\n",
       "    <tr>\n",
       "      <th>max</th>\n",
       "      <td>69998.000000</td>\n",
       "      <td>109.0</td>\n",
       "      <td>0.0</td>\n",
       "      <td>0.0</td>\n",
       "      <td>0.0</td>\n",
       "      <td>27731.088000</td>\n",
       "      <td>35145.834000</td>\n",
       "      <td>33543.624000</td>\n",
       "      <td>7376.710000</td>\n",
       "      <td>8157.780000</td>\n",
       "      <td>...</td>\n",
       "      <td>33.000000</td>\n",
       "      <td>41.000000</td>\n",
       "      <td>1.000000</td>\n",
       "      <td>1.000000</td>\n",
       "      <td>1.000000</td>\n",
       "      <td>4337.000000</td>\n",
       "      <td>12916.220000</td>\n",
       "      <td>9165.600000</td>\n",
       "      <td>11166.21000</td>\n",
       "      <td>1.000000</td>\n",
       "    </tr>\n",
       "  </tbody>\n",
       "</table>\n",
       "<p>8 rows × 163 columns</p>\n",
       "</div>"
      ],
      "text/plain": [
       "                 id  circle_id  loc_og_t2o_mou  std_og_t2o_mou  \\\n",
       "count  69999.000000    69999.0         69297.0         69297.0   \n",
       "mean   34999.000000      109.0             0.0             0.0   \n",
       "std    20207.115084        0.0             0.0             0.0   \n",
       "min        0.000000      109.0             0.0             0.0   \n",
       "25%    17499.500000      109.0             0.0             0.0   \n",
       "50%    34999.000000      109.0             0.0             0.0   \n",
       "75%    52498.500000      109.0             0.0             0.0   \n",
       "max    69998.000000      109.0             0.0             0.0   \n",
       "\n",
       "       loc_ic_t2o_mou        arpu_6        arpu_7        arpu_8   onnet_mou_6  \\\n",
       "count         69297.0  69999.000000  69999.000000  69999.000000  67231.000000   \n",
       "mean              0.0    283.134365    278.185912    278.858826    133.153275   \n",
       "std               0.0    334.213918    344.366927    351.924315    299.963093   \n",
       "min               0.0  -2258.709000  -1289.715000   -945.808000      0.000000   \n",
       "25%               0.0     93.581000     86.714000     84.095000      7.410000   \n",
       "50%               0.0    197.484000    191.588000    192.234000     34.110000   \n",
       "75%               0.0    370.791000    365.369500    369.909000    119.390000   \n",
       "max               0.0  27731.088000  35145.834000  33543.624000   7376.710000   \n",
       "\n",
       "        onnet_mou_7  ...   sachet_3g_7   sachet_3g_8     fb_user_6  \\\n",
       "count  67312.000000  ...  69999.000000  69999.000000  17568.000000   \n",
       "mean     133.894438  ...      0.081444      0.085487      0.916325   \n",
       "std      311.277193  ...      0.634547      0.680035      0.276907   \n",
       "min        0.000000  ...      0.000000      0.000000      0.000000   \n",
       "25%        6.675000  ...      0.000000      0.000000      1.000000   \n",
       "50%       32.280000  ...      0.000000      0.000000      1.000000   \n",
       "75%      115.837500  ...      0.000000      0.000000      1.000000   \n",
       "max     8157.780000  ...     33.000000     41.000000      1.000000   \n",
       "\n",
       "          fb_user_7     fb_user_8           aon    aug_vbc_3g    jul_vbc_3g  \\\n",
       "count  17865.000000  18417.000000  69999.000000  69999.000000  69999.000000   \n",
       "mean       0.909544      0.890319   1220.639709     68.108597     65.935830   \n",
       "std        0.286842      0.312501    952.426321    269.328659    267.899034   \n",
       "min        0.000000      0.000000    180.000000      0.000000      0.000000   \n",
       "25%        1.000000      1.000000    468.000000      0.000000      0.000000   \n",
       "50%        1.000000      1.000000    868.000000      0.000000      0.000000   \n",
       "75%        1.000000      1.000000   1813.000000      0.000000      0.000000   \n",
       "max        1.000000      1.000000   4337.000000  12916.220000   9165.600000   \n",
       "\n",
       "        jun_vbc_3g  churn_probability  \n",
       "count  69999.00000       69999.000000  \n",
       "mean      60.07674           0.101887  \n",
       "std      257.22681           0.302502  \n",
       "min        0.00000           0.000000  \n",
       "25%        0.00000           0.000000  \n",
       "50%        0.00000           0.000000  \n",
       "75%        0.00000           0.000000  \n",
       "max    11166.21000           1.000000  \n",
       "\n",
       "[8 rows x 163 columns]"
      ]
     },
     "execution_count": 4,
     "metadata": {},
     "output_type": "execute_result"
    }
   ],
   "source": [
    "telecom_df.describe()"
   ]
  },
  {
   "cell_type": "code",
   "execution_count": 5,
   "id": "d8c8f589",
   "metadata": {},
   "outputs": [
    {
     "data": {
      "text/html": [
       "<div>\n",
       "<style scoped>\n",
       "    .dataframe tbody tr th:only-of-type {\n",
       "        vertical-align: middle;\n",
       "    }\n",
       "\n",
       "    .dataframe tbody tr th {\n",
       "        vertical-align: top;\n",
       "    }\n",
       "\n",
       "    .dataframe thead th {\n",
       "        text-align: right;\n",
       "    }\n",
       "</style>\n",
       "<table border=\"1\" class=\"dataframe\">\n",
       "  <thead>\n",
       "    <tr style=\"text-align: right;\">\n",
       "      <th></th>\n",
       "      <th>id</th>\n",
       "      <th>circle_id</th>\n",
       "      <th>loc_og_t2o_mou</th>\n",
       "      <th>std_og_t2o_mou</th>\n",
       "      <th>loc_ic_t2o_mou</th>\n",
       "      <th>last_date_of_month_6</th>\n",
       "      <th>last_date_of_month_7</th>\n",
       "      <th>last_date_of_month_8</th>\n",
       "      <th>arpu_6</th>\n",
       "      <th>arpu_7</th>\n",
       "      <th>...</th>\n",
       "      <th>sachet_3g_7</th>\n",
       "      <th>sachet_3g_8</th>\n",
       "      <th>fb_user_6</th>\n",
       "      <th>fb_user_7</th>\n",
       "      <th>fb_user_8</th>\n",
       "      <th>aon</th>\n",
       "      <th>aug_vbc_3g</th>\n",
       "      <th>jul_vbc_3g</th>\n",
       "      <th>jun_vbc_3g</th>\n",
       "      <th>churn_probability</th>\n",
       "    </tr>\n",
       "  </thead>\n",
       "  <tbody>\n",
       "    <tr>\n",
       "      <th>0</th>\n",
       "      <td>0</td>\n",
       "      <td>109</td>\n",
       "      <td>0.0</td>\n",
       "      <td>0.0</td>\n",
       "      <td>0.0</td>\n",
       "      <td>6/30/2014</td>\n",
       "      <td>7/31/2014</td>\n",
       "      <td>8/31/2014</td>\n",
       "      <td>31.277</td>\n",
       "      <td>87.009</td>\n",
       "      <td>...</td>\n",
       "      <td>0</td>\n",
       "      <td>0</td>\n",
       "      <td>NaN</td>\n",
       "      <td>NaN</td>\n",
       "      <td>NaN</td>\n",
       "      <td>1958</td>\n",
       "      <td>0.0</td>\n",
       "      <td>0.0</td>\n",
       "      <td>0.0</td>\n",
       "      <td>0</td>\n",
       "    </tr>\n",
       "    <tr>\n",
       "      <th>1</th>\n",
       "      <td>1</td>\n",
       "      <td>109</td>\n",
       "      <td>0.0</td>\n",
       "      <td>0.0</td>\n",
       "      <td>0.0</td>\n",
       "      <td>6/30/2014</td>\n",
       "      <td>7/31/2014</td>\n",
       "      <td>8/31/2014</td>\n",
       "      <td>0.000</td>\n",
       "      <td>122.787</td>\n",
       "      <td>...</td>\n",
       "      <td>0</td>\n",
       "      <td>0</td>\n",
       "      <td>NaN</td>\n",
       "      <td>1.0</td>\n",
       "      <td>NaN</td>\n",
       "      <td>710</td>\n",
       "      <td>0.0</td>\n",
       "      <td>0.0</td>\n",
       "      <td>0.0</td>\n",
       "      <td>0</td>\n",
       "    </tr>\n",
       "    <tr>\n",
       "      <th>2</th>\n",
       "      <td>2</td>\n",
       "      <td>109</td>\n",
       "      <td>0.0</td>\n",
       "      <td>0.0</td>\n",
       "      <td>0.0</td>\n",
       "      <td>6/30/2014</td>\n",
       "      <td>7/31/2014</td>\n",
       "      <td>8/31/2014</td>\n",
       "      <td>60.806</td>\n",
       "      <td>103.176</td>\n",
       "      <td>...</td>\n",
       "      <td>0</td>\n",
       "      <td>0</td>\n",
       "      <td>NaN</td>\n",
       "      <td>NaN</td>\n",
       "      <td>NaN</td>\n",
       "      <td>882</td>\n",
       "      <td>0.0</td>\n",
       "      <td>0.0</td>\n",
       "      <td>0.0</td>\n",
       "      <td>0</td>\n",
       "    </tr>\n",
       "    <tr>\n",
       "      <th>3</th>\n",
       "      <td>3</td>\n",
       "      <td>109</td>\n",
       "      <td>0.0</td>\n",
       "      <td>0.0</td>\n",
       "      <td>0.0</td>\n",
       "      <td>6/30/2014</td>\n",
       "      <td>7/31/2014</td>\n",
       "      <td>8/31/2014</td>\n",
       "      <td>156.362</td>\n",
       "      <td>205.260</td>\n",
       "      <td>...</td>\n",
       "      <td>0</td>\n",
       "      <td>0</td>\n",
       "      <td>NaN</td>\n",
       "      <td>NaN</td>\n",
       "      <td>NaN</td>\n",
       "      <td>982</td>\n",
       "      <td>0.0</td>\n",
       "      <td>0.0</td>\n",
       "      <td>0.0</td>\n",
       "      <td>0</td>\n",
       "    </tr>\n",
       "    <tr>\n",
       "      <th>4</th>\n",
       "      <td>4</td>\n",
       "      <td>109</td>\n",
       "      <td>0.0</td>\n",
       "      <td>0.0</td>\n",
       "      <td>0.0</td>\n",
       "      <td>6/30/2014</td>\n",
       "      <td>7/31/2014</td>\n",
       "      <td>8/31/2014</td>\n",
       "      <td>240.708</td>\n",
       "      <td>128.191</td>\n",
       "      <td>...</td>\n",
       "      <td>1</td>\n",
       "      <td>0</td>\n",
       "      <td>1.0</td>\n",
       "      <td>1.0</td>\n",
       "      <td>1.0</td>\n",
       "      <td>647</td>\n",
       "      <td>0.0</td>\n",
       "      <td>0.0</td>\n",
       "      <td>0.0</td>\n",
       "      <td>0</td>\n",
       "    </tr>\n",
       "  </tbody>\n",
       "</table>\n",
       "<p>5 rows × 172 columns</p>\n",
       "</div>"
      ],
      "text/plain": [
       "   id  circle_id  loc_og_t2o_mou  std_og_t2o_mou  loc_ic_t2o_mou  \\\n",
       "0   0        109             0.0             0.0             0.0   \n",
       "1   1        109             0.0             0.0             0.0   \n",
       "2   2        109             0.0             0.0             0.0   \n",
       "3   3        109             0.0             0.0             0.0   \n",
       "4   4        109             0.0             0.0             0.0   \n",
       "\n",
       "  last_date_of_month_6 last_date_of_month_7 last_date_of_month_8   arpu_6  \\\n",
       "0            6/30/2014            7/31/2014            8/31/2014   31.277   \n",
       "1            6/30/2014            7/31/2014            8/31/2014    0.000   \n",
       "2            6/30/2014            7/31/2014            8/31/2014   60.806   \n",
       "3            6/30/2014            7/31/2014            8/31/2014  156.362   \n",
       "4            6/30/2014            7/31/2014            8/31/2014  240.708   \n",
       "\n",
       "    arpu_7  ...  sachet_3g_7  sachet_3g_8  fb_user_6  fb_user_7  fb_user_8  \\\n",
       "0   87.009  ...            0            0        NaN        NaN        NaN   \n",
       "1  122.787  ...            0            0        NaN        1.0        NaN   \n",
       "2  103.176  ...            0            0        NaN        NaN        NaN   \n",
       "3  205.260  ...            0            0        NaN        NaN        NaN   \n",
       "4  128.191  ...            1            0        1.0        1.0        1.0   \n",
       "\n",
       "    aon  aug_vbc_3g  jul_vbc_3g  jun_vbc_3g  churn_probability  \n",
       "0  1958         0.0         0.0         0.0                  0  \n",
       "1   710         0.0         0.0         0.0                  0  \n",
       "2   882         0.0         0.0         0.0                  0  \n",
       "3   982         0.0         0.0         0.0                  0  \n",
       "4   647         0.0         0.0         0.0                  0  \n",
       "\n",
       "[5 rows x 172 columns]"
      ]
     },
     "execution_count": 5,
     "metadata": {},
     "output_type": "execute_result"
    }
   ],
   "source": [
    "telecom_df.head()"
   ]
  },
  {
   "cell_type": "markdown",
   "id": "bb0a7c4f",
   "metadata": {},
   "source": [
    "### Data Cleaning\n",
    "\n",
    "On analysing data in Excel, we have many columns which are either of following types:\n",
    "* Columns containing many null values\n",
    "* Columns with very low variance in data; ie columns with similar values\n",
    "\n",
    "Such columns will not help in the analysis and can be deleted."
   ]
  },
  {
   "cell_type": "code",
   "execution_count": 6,
   "id": "5df7aec1",
   "metadata": {},
   "outputs": [
    {
     "data": {
      "text/plain": [
       "id                   0.000000\n",
       "circle_id            0.000000\n",
       "loc_og_t2o_mou       1.002871\n",
       "std_og_t2o_mou       1.002871\n",
       "loc_ic_t2o_mou       1.002871\n",
       "                       ...   \n",
       "aon                  0.000000\n",
       "aug_vbc_3g           0.000000\n",
       "jul_vbc_3g           0.000000\n",
       "jun_vbc_3g           0.000000\n",
       "churn_probability    0.000000\n",
       "Length: 172, dtype: float64"
      ]
     },
     "execution_count": 6,
     "metadata": {},
     "output_type": "execute_result"
    }
   ],
   "source": [
    "100 * telecom_df.isna().sum()/len(telecom_df)"
   ]
  },
  {
   "cell_type": "markdown",
   "id": "2a68c3fc",
   "metadata": {},
   "source": [
    "### Remove columns with missing values:\n",
    "* Check percentage of null/missing values\n",
    "* Any columns with null/missing value more than 25% will be deleted."
   ]
  },
  {
   "cell_type": "code",
   "execution_count": 7,
   "id": "9f5d8c9c",
   "metadata": {},
   "outputs": [
    {
     "data": {
      "text/html": [
       "<div>\n",
       "<style scoped>\n",
       "    .dataframe tbody tr th:only-of-type {\n",
       "        vertical-align: middle;\n",
       "    }\n",
       "\n",
       "    .dataframe tbody tr th {\n",
       "        vertical-align: top;\n",
       "    }\n",
       "\n",
       "    .dataframe thead th {\n",
       "        text-align: right;\n",
       "    }\n",
       "</style>\n",
       "<table border=\"1\" class=\"dataframe\">\n",
       "  <thead>\n",
       "    <tr style=\"text-align: right;\">\n",
       "      <th></th>\n",
       "      <th>value</th>\n",
       "    </tr>\n",
       "  </thead>\n",
       "  <tbody>\n",
       "    <tr>\n",
       "      <th>arpu_3g_6</th>\n",
       "      <td>74.902499</td>\n",
       "    </tr>\n",
       "    <tr>\n",
       "      <th>count_rech_2g_6</th>\n",
       "      <td>74.902499</td>\n",
       "    </tr>\n",
       "    <tr>\n",
       "      <th>night_pck_user_6</th>\n",
       "      <td>74.902499</td>\n",
       "    </tr>\n",
       "    <tr>\n",
       "      <th>arpu_2g_6</th>\n",
       "      <td>74.902499</td>\n",
       "    </tr>\n",
       "    <tr>\n",
       "      <th>date_of_last_rech_data_6</th>\n",
       "      <td>74.902499</td>\n",
       "    </tr>\n",
       "  </tbody>\n",
       "</table>\n",
       "</div>"
      ],
      "text/plain": [
       "                              value\n",
       "arpu_3g_6                 74.902499\n",
       "count_rech_2g_6           74.902499\n",
       "night_pck_user_6          74.902499\n",
       "arpu_2g_6                 74.902499\n",
       "date_of_last_rech_data_6  74.902499"
      ]
     },
     "execution_count": 7,
     "metadata": {},
     "output_type": "execute_result"
    }
   ],
   "source": [
    "missing_df = (telecom_df.isnull().sum() / telecom_df.isnull().count()*100).sort_values(ascending = False)\n",
    "missing_df = missing_df.to_frame()\n",
    "missing_df = missing_df.rename(columns={0: 'value'})\n",
    "missing_df.head()"
   ]
  },
  {
   "cell_type": "code",
   "execution_count": 8,
   "id": "a70802bd",
   "metadata": {},
   "outputs": [
    {
     "data": {
      "text/html": [
       "<div>\n",
       "<style scoped>\n",
       "    .dataframe tbody tr th:only-of-type {\n",
       "        vertical-align: middle;\n",
       "    }\n",
       "\n",
       "    .dataframe tbody tr th {\n",
       "        vertical-align: top;\n",
       "    }\n",
       "\n",
       "    .dataframe thead th {\n",
       "        text-align: right;\n",
       "    }\n",
       "</style>\n",
       "<table border=\"1\" class=\"dataframe\">\n",
       "  <thead>\n",
       "    <tr style=\"text-align: right;\">\n",
       "      <th></th>\n",
       "      <th>column_name</th>\n",
       "      <th>percent_missing</th>\n",
       "    </tr>\n",
       "  </thead>\n",
       "  <tbody>\n",
       "    <tr>\n",
       "      <th>arpu_3g_6</th>\n",
       "      <td>arpu_3g_6</td>\n",
       "      <td>74.902499</td>\n",
       "    </tr>\n",
       "    <tr>\n",
       "      <th>count_rech_2g_6</th>\n",
       "      <td>count_rech_2g_6</td>\n",
       "      <td>74.902499</td>\n",
       "    </tr>\n",
       "    <tr>\n",
       "      <th>night_pck_user_6</th>\n",
       "      <td>night_pck_user_6</td>\n",
       "      <td>74.902499</td>\n",
       "    </tr>\n",
       "    <tr>\n",
       "      <th>arpu_2g_6</th>\n",
       "      <td>arpu_2g_6</td>\n",
       "      <td>74.902499</td>\n",
       "    </tr>\n",
       "    <tr>\n",
       "      <th>date_of_last_rech_data_6</th>\n",
       "      <td>date_of_last_rech_data_6</td>\n",
       "      <td>74.902499</td>\n",
       "    </tr>\n",
       "  </tbody>\n",
       "</table>\n",
       "</div>"
      ],
      "text/plain": [
       "                                       column_name  percent_missing\n",
       "arpu_3g_6                                arpu_3g_6        74.902499\n",
       "count_rech_2g_6                    count_rech_2g_6        74.902499\n",
       "night_pck_user_6                  night_pck_user_6        74.902499\n",
       "arpu_2g_6                                arpu_2g_6        74.902499\n",
       "date_of_last_rech_data_6  date_of_last_rech_data_6        74.902499"
      ]
     },
     "execution_count": 8,
     "metadata": {},
     "output_type": "execute_result"
    }
   ],
   "source": [
    "percent_missing = telecom_df.isnull().sum() * 100 / len(telecom_df)\n",
    "missing_value_df = pd.DataFrame({'column_name': telecom_df.columns,\n",
    "                                 'percent_missing': percent_missing}\n",
    "                               )\n",
    "missing_value_df.sort_values('percent_missing', inplace=True, ascending = False)\n",
    "missing_value_df.head()"
   ]
  },
  {
   "cell_type": "code",
   "execution_count": 9,
   "id": "751141a0",
   "metadata": {},
   "outputs": [
    {
     "data": {
      "text/plain": [
       "['arpu_3g_6',\n",
       " 'count_rech_2g_6',\n",
       " 'night_pck_user_6',\n",
       " 'arpu_2g_6',\n",
       " 'date_of_last_rech_data_6',\n",
       " 'total_rech_data_6',\n",
       " 'av_rech_amt_data_6',\n",
       " 'max_rech_data_6',\n",
       " 'count_rech_3g_6',\n",
       " 'fb_user_6',\n",
       " 'night_pck_user_7',\n",
       " 'date_of_last_rech_data_7',\n",
       " 'total_rech_data_7',\n",
       " 'max_rech_data_7',\n",
       " 'fb_user_7',\n",
       " 'count_rech_2g_7',\n",
       " 'count_rech_3g_7',\n",
       " 'arpu_3g_7',\n",
       " 'av_rech_amt_data_7',\n",
       " 'arpu_2g_7',\n",
       " 'count_rech_2g_8',\n",
       " 'av_rech_amt_data_8',\n",
       " 'night_pck_user_8',\n",
       " 'max_rech_data_8',\n",
       " 'total_rech_data_8',\n",
       " 'arpu_2g_8',\n",
       " 'arpu_3g_8',\n",
       " 'date_of_last_rech_data_8',\n",
       " 'fb_user_8',\n",
       " 'count_rech_3g_8']"
      ]
     },
     "execution_count": 9,
     "metadata": {},
     "output_type": "execute_result"
    }
   ],
   "source": [
    "# Deleting columns with more than 30% of missing value.\n",
    "# as discussed in the Case Study meeting, using 30% rather than previously 20/25%.\n",
    "missing_value_threshhold = 30\n",
    "missing_col_list = list(missing_value_df.index[missing_value_df['percent_missing'] > missing_value_threshhold])\n",
    "missing_col_list"
   ]
  },
  {
   "cell_type": "code",
   "execution_count": 10,
   "id": "ce952999",
   "metadata": {},
   "outputs": [
    {
     "data": {
      "text/plain": [
       "(69999, 142)"
      ]
     },
     "execution_count": 10,
     "metadata": {},
     "output_type": "execute_result"
    }
   ],
   "source": [
    "telecom_df.drop(missing_col_list, axis=1, inplace=True)\n",
    "telecom_df.shape"
   ]
  },
  {
   "cell_type": "code",
   "execution_count": 11,
   "id": "c5509da4",
   "metadata": {},
   "outputs": [
    {
     "data": {
      "text/plain": [
       "(69999, 142)"
      ]
     },
     "execution_count": 11,
     "metadata": {},
     "output_type": "execute_result"
    }
   ],
   "source": [
    "telecom_df.dropna(axis=1, how=\"all\", inplace=True)\n",
    "telecom_df.shape"
   ]
  },
  {
   "cell_type": "code",
   "execution_count": 12,
   "id": "ae8c69cd",
   "metadata": {},
   "outputs": [
    {
     "data": {
      "text/html": [
       "<div>\n",
       "<style scoped>\n",
       "    .dataframe tbody tr th:only-of-type {\n",
       "        vertical-align: middle;\n",
       "    }\n",
       "\n",
       "    .dataframe tbody tr th {\n",
       "        vertical-align: top;\n",
       "    }\n",
       "\n",
       "    .dataframe thead th {\n",
       "        text-align: right;\n",
       "    }\n",
       "</style>\n",
       "<table border=\"1\" class=\"dataframe\">\n",
       "  <thead>\n",
       "    <tr style=\"text-align: right;\">\n",
       "      <th></th>\n",
       "      <th>id</th>\n",
       "      <th>circle_id</th>\n",
       "      <th>loc_og_t2o_mou</th>\n",
       "      <th>std_og_t2o_mou</th>\n",
       "      <th>loc_ic_t2o_mou</th>\n",
       "      <th>arpu_6</th>\n",
       "      <th>arpu_7</th>\n",
       "      <th>arpu_8</th>\n",
       "      <th>onnet_mou_6</th>\n",
       "      <th>onnet_mou_7</th>\n",
       "      <th>...</th>\n",
       "      <th>monthly_3g_7</th>\n",
       "      <th>monthly_3g_8</th>\n",
       "      <th>sachet_3g_6</th>\n",
       "      <th>sachet_3g_7</th>\n",
       "      <th>sachet_3g_8</th>\n",
       "      <th>aon</th>\n",
       "      <th>aug_vbc_3g</th>\n",
       "      <th>jul_vbc_3g</th>\n",
       "      <th>jun_vbc_3g</th>\n",
       "      <th>churn_probability</th>\n",
       "    </tr>\n",
       "  </thead>\n",
       "  <tbody>\n",
       "    <tr>\n",
       "      <th>count</th>\n",
       "      <td>69999.000000</td>\n",
       "      <td>69999.0</td>\n",
       "      <td>69297.0</td>\n",
       "      <td>69297.0</td>\n",
       "      <td>69297.0</td>\n",
       "      <td>69999.000000</td>\n",
       "      <td>69999.000000</td>\n",
       "      <td>69999.000000</td>\n",
       "      <td>67231.000000</td>\n",
       "      <td>67312.000000</td>\n",
       "      <td>...</td>\n",
       "      <td>69999.000000</td>\n",
       "      <td>69999.000000</td>\n",
       "      <td>69999.000000</td>\n",
       "      <td>69999.000000</td>\n",
       "      <td>69999.000000</td>\n",
       "      <td>69999.000000</td>\n",
       "      <td>69999.000000</td>\n",
       "      <td>69999.000000</td>\n",
       "      <td>69999.00000</td>\n",
       "      <td>69999.000000</td>\n",
       "    </tr>\n",
       "    <tr>\n",
       "      <th>mean</th>\n",
       "      <td>34999.000000</td>\n",
       "      <td>109.0</td>\n",
       "      <td>0.0</td>\n",
       "      <td>0.0</td>\n",
       "      <td>0.0</td>\n",
       "      <td>283.134365</td>\n",
       "      <td>278.185912</td>\n",
       "      <td>278.858826</td>\n",
       "      <td>133.153275</td>\n",
       "      <td>133.894438</td>\n",
       "      <td>...</td>\n",
       "      <td>0.077730</td>\n",
       "      <td>0.081958</td>\n",
       "      <td>0.075344</td>\n",
       "      <td>0.081444</td>\n",
       "      <td>0.085487</td>\n",
       "      <td>1220.639709</td>\n",
       "      <td>68.108597</td>\n",
       "      <td>65.935830</td>\n",
       "      <td>60.07674</td>\n",
       "      <td>0.101887</td>\n",
       "    </tr>\n",
       "    <tr>\n",
       "      <th>std</th>\n",
       "      <td>20207.115084</td>\n",
       "      <td>0.0</td>\n",
       "      <td>0.0</td>\n",
       "      <td>0.0</td>\n",
       "      <td>0.0</td>\n",
       "      <td>334.213918</td>\n",
       "      <td>344.366927</td>\n",
       "      <td>351.924315</td>\n",
       "      <td>299.963093</td>\n",
       "      <td>311.277193</td>\n",
       "      <td>...</td>\n",
       "      <td>0.383189</td>\n",
       "      <td>0.381821</td>\n",
       "      <td>0.573003</td>\n",
       "      <td>0.634547</td>\n",
       "      <td>0.680035</td>\n",
       "      <td>952.426321</td>\n",
       "      <td>269.328659</td>\n",
       "      <td>267.899034</td>\n",
       "      <td>257.22681</td>\n",
       "      <td>0.302502</td>\n",
       "    </tr>\n",
       "    <tr>\n",
       "      <th>min</th>\n",
       "      <td>0.000000</td>\n",
       "      <td>109.0</td>\n",
       "      <td>0.0</td>\n",
       "      <td>0.0</td>\n",
       "      <td>0.0</td>\n",
       "      <td>-2258.709000</td>\n",
       "      <td>-1289.715000</td>\n",
       "      <td>-945.808000</td>\n",
       "      <td>0.000000</td>\n",
       "      <td>0.000000</td>\n",
       "      <td>...</td>\n",
       "      <td>0.000000</td>\n",
       "      <td>0.000000</td>\n",
       "      <td>0.000000</td>\n",
       "      <td>0.000000</td>\n",
       "      <td>0.000000</td>\n",
       "      <td>180.000000</td>\n",
       "      <td>0.000000</td>\n",
       "      <td>0.000000</td>\n",
       "      <td>0.00000</td>\n",
       "      <td>0.000000</td>\n",
       "    </tr>\n",
       "    <tr>\n",
       "      <th>25%</th>\n",
       "      <td>17499.500000</td>\n",
       "      <td>109.0</td>\n",
       "      <td>0.0</td>\n",
       "      <td>0.0</td>\n",
       "      <td>0.0</td>\n",
       "      <td>93.581000</td>\n",
       "      <td>86.714000</td>\n",
       "      <td>84.095000</td>\n",
       "      <td>7.410000</td>\n",
       "      <td>6.675000</td>\n",
       "      <td>...</td>\n",
       "      <td>0.000000</td>\n",
       "      <td>0.000000</td>\n",
       "      <td>0.000000</td>\n",
       "      <td>0.000000</td>\n",
       "      <td>0.000000</td>\n",
       "      <td>468.000000</td>\n",
       "      <td>0.000000</td>\n",
       "      <td>0.000000</td>\n",
       "      <td>0.00000</td>\n",
       "      <td>0.000000</td>\n",
       "    </tr>\n",
       "    <tr>\n",
       "      <th>50%</th>\n",
       "      <td>34999.000000</td>\n",
       "      <td>109.0</td>\n",
       "      <td>0.0</td>\n",
       "      <td>0.0</td>\n",
       "      <td>0.0</td>\n",
       "      <td>197.484000</td>\n",
       "      <td>191.588000</td>\n",
       "      <td>192.234000</td>\n",
       "      <td>34.110000</td>\n",
       "      <td>32.280000</td>\n",
       "      <td>...</td>\n",
       "      <td>0.000000</td>\n",
       "      <td>0.000000</td>\n",
       "      <td>0.000000</td>\n",
       "      <td>0.000000</td>\n",
       "      <td>0.000000</td>\n",
       "      <td>868.000000</td>\n",
       "      <td>0.000000</td>\n",
       "      <td>0.000000</td>\n",
       "      <td>0.00000</td>\n",
       "      <td>0.000000</td>\n",
       "    </tr>\n",
       "    <tr>\n",
       "      <th>75%</th>\n",
       "      <td>52498.500000</td>\n",
       "      <td>109.0</td>\n",
       "      <td>0.0</td>\n",
       "      <td>0.0</td>\n",
       "      <td>0.0</td>\n",
       "      <td>370.791000</td>\n",
       "      <td>365.369500</td>\n",
       "      <td>369.909000</td>\n",
       "      <td>119.390000</td>\n",
       "      <td>115.837500</td>\n",
       "      <td>...</td>\n",
       "      <td>0.000000</td>\n",
       "      <td>0.000000</td>\n",
       "      <td>0.000000</td>\n",
       "      <td>0.000000</td>\n",
       "      <td>0.000000</td>\n",
       "      <td>1813.000000</td>\n",
       "      <td>0.000000</td>\n",
       "      <td>0.000000</td>\n",
       "      <td>0.00000</td>\n",
       "      <td>0.000000</td>\n",
       "    </tr>\n",
       "    <tr>\n",
       "      <th>max</th>\n",
       "      <td>69998.000000</td>\n",
       "      <td>109.0</td>\n",
       "      <td>0.0</td>\n",
       "      <td>0.0</td>\n",
       "      <td>0.0</td>\n",
       "      <td>27731.088000</td>\n",
       "      <td>35145.834000</td>\n",
       "      <td>33543.624000</td>\n",
       "      <td>7376.710000</td>\n",
       "      <td>8157.780000</td>\n",
       "      <td>...</td>\n",
       "      <td>16.000000</td>\n",
       "      <td>16.000000</td>\n",
       "      <td>29.000000</td>\n",
       "      <td>33.000000</td>\n",
       "      <td>41.000000</td>\n",
       "      <td>4337.000000</td>\n",
       "      <td>12916.220000</td>\n",
       "      <td>9165.600000</td>\n",
       "      <td>11166.21000</td>\n",
       "      <td>1.000000</td>\n",
       "    </tr>\n",
       "  </tbody>\n",
       "</table>\n",
       "<p>8 rows × 136 columns</p>\n",
       "</div>"
      ],
      "text/plain": [
       "                 id  circle_id  loc_og_t2o_mou  std_og_t2o_mou  \\\n",
       "count  69999.000000    69999.0         69297.0         69297.0   \n",
       "mean   34999.000000      109.0             0.0             0.0   \n",
       "std    20207.115084        0.0             0.0             0.0   \n",
       "min        0.000000      109.0             0.0             0.0   \n",
       "25%    17499.500000      109.0             0.0             0.0   \n",
       "50%    34999.000000      109.0             0.0             0.0   \n",
       "75%    52498.500000      109.0             0.0             0.0   \n",
       "max    69998.000000      109.0             0.0             0.0   \n",
       "\n",
       "       loc_ic_t2o_mou        arpu_6        arpu_7        arpu_8   onnet_mou_6  \\\n",
       "count         69297.0  69999.000000  69999.000000  69999.000000  67231.000000   \n",
       "mean              0.0    283.134365    278.185912    278.858826    133.153275   \n",
       "std               0.0    334.213918    344.366927    351.924315    299.963093   \n",
       "min               0.0  -2258.709000  -1289.715000   -945.808000      0.000000   \n",
       "25%               0.0     93.581000     86.714000     84.095000      7.410000   \n",
       "50%               0.0    197.484000    191.588000    192.234000     34.110000   \n",
       "75%               0.0    370.791000    365.369500    369.909000    119.390000   \n",
       "max               0.0  27731.088000  35145.834000  33543.624000   7376.710000   \n",
       "\n",
       "        onnet_mou_7  ...  monthly_3g_7  monthly_3g_8   sachet_3g_6  \\\n",
       "count  67312.000000  ...  69999.000000  69999.000000  69999.000000   \n",
       "mean     133.894438  ...      0.077730      0.081958      0.075344   \n",
       "std      311.277193  ...      0.383189      0.381821      0.573003   \n",
       "min        0.000000  ...      0.000000      0.000000      0.000000   \n",
       "25%        6.675000  ...      0.000000      0.000000      0.000000   \n",
       "50%       32.280000  ...      0.000000      0.000000      0.000000   \n",
       "75%      115.837500  ...      0.000000      0.000000      0.000000   \n",
       "max     8157.780000  ...     16.000000     16.000000     29.000000   \n",
       "\n",
       "        sachet_3g_7   sachet_3g_8           aon    aug_vbc_3g    jul_vbc_3g  \\\n",
       "count  69999.000000  69999.000000  69999.000000  69999.000000  69999.000000   \n",
       "mean       0.081444      0.085487   1220.639709     68.108597     65.935830   \n",
       "std        0.634547      0.680035    952.426321    269.328659    267.899034   \n",
       "min        0.000000      0.000000    180.000000      0.000000      0.000000   \n",
       "25%        0.000000      0.000000    468.000000      0.000000      0.000000   \n",
       "50%        0.000000      0.000000    868.000000      0.000000      0.000000   \n",
       "75%        0.000000      0.000000   1813.000000      0.000000      0.000000   \n",
       "max       33.000000     41.000000   4337.000000  12916.220000   9165.600000   \n",
       "\n",
       "        jun_vbc_3g  churn_probability  \n",
       "count  69999.00000       69999.000000  \n",
       "mean      60.07674           0.101887  \n",
       "std      257.22681           0.302502  \n",
       "min        0.00000           0.000000  \n",
       "25%        0.00000           0.000000  \n",
       "50%        0.00000           0.000000  \n",
       "75%        0.00000           0.000000  \n",
       "max    11166.21000           1.000000  \n",
       "\n",
       "[8 rows x 136 columns]"
      ]
     },
     "execution_count": 12,
     "metadata": {},
     "output_type": "execute_result"
    }
   ],
   "source": [
    "telecom_df.describe()"
   ]
  },
  {
   "cell_type": "markdown",
   "id": "840ddc91",
   "metadata": {},
   "source": [
    "### Ananlyse column data with very low varaince in values present in column\n",
    "* Columns which has only 1-2 values.\n",
    "* Such columns will not help in final model building."
   ]
  },
  {
   "cell_type": "code",
   "execution_count": 13,
   "id": "2e178a94",
   "metadata": {},
   "outputs": [
    {
     "data": {
      "text/plain": [
       "Index(['circle_id', 'loc_og_t2o_mou', 'std_og_t2o_mou', 'loc_ic_t2o_mou',\n",
       "       'last_date_of_month_6', 'last_date_of_month_7', 'last_date_of_month_8',\n",
       "       'std_og_t2c_mou_6', 'std_og_t2c_mou_7', 'std_og_t2c_mou_8',\n",
       "       'std_ic_t2o_mou_6', 'std_ic_t2o_mou_7', 'std_ic_t2o_mou_8'],\n",
       "      dtype='object')"
      ]
     },
     "execution_count": 13,
     "metadata": {},
     "output_type": "execute_result"
    }
   ],
   "source": [
    "telecom_df.columns[telecom_df.nunique() <= 1]"
   ]
  },
  {
   "cell_type": "code",
   "execution_count": 14,
   "id": "b8fd200b",
   "metadata": {},
   "outputs": [
    {
     "data": {
      "text/plain": [
       "id                   69999\n",
       "circle_id                1\n",
       "loc_og_t2o_mou           1\n",
       "std_og_t2o_mou           1\n",
       "loc_ic_t2o_mou           1\n",
       "                     ...  \n",
       "aon                   3455\n",
       "aug_vbc_3g           10609\n",
       "jul_vbc_3g           10257\n",
       "jun_vbc_3g            9617\n",
       "churn_probability        2\n",
       "Length: 142, dtype: int64"
      ]
     },
     "execution_count": 14,
     "metadata": {},
     "output_type": "execute_result"
    }
   ],
   "source": [
    "telecom_df.nunique()"
   ]
  },
  {
   "cell_type": "code",
   "execution_count": 15,
   "id": "8b5b450b",
   "metadata": {
    "scrolled": true
   },
   "outputs": [
    {
     "data": {
      "text/html": [
       "<div>\n",
       "<style scoped>\n",
       "    .dataframe tbody tr th:only-of-type {\n",
       "        vertical-align: middle;\n",
       "    }\n",
       "\n",
       "    .dataframe tbody tr th {\n",
       "        vertical-align: top;\n",
       "    }\n",
       "\n",
       "    .dataframe thead th {\n",
       "        text-align: right;\n",
       "    }\n",
       "</style>\n",
       "<table border=\"1\" class=\"dataframe\">\n",
       "  <thead>\n",
       "    <tr style=\"text-align: right;\">\n",
       "      <th></th>\n",
       "      <th>column_name</th>\n",
       "      <th>percent_unique</th>\n",
       "    </tr>\n",
       "  </thead>\n",
       "  <tbody>\n",
       "    <tr>\n",
       "      <th>std_ic_t2o_mou_7</th>\n",
       "      <td>std_ic_t2o_mou_7</td>\n",
       "      <td>0.001429</td>\n",
       "    </tr>\n",
       "    <tr>\n",
       "      <th>circle_id</th>\n",
       "      <td>circle_id</td>\n",
       "      <td>0.001429</td>\n",
       "    </tr>\n",
       "    <tr>\n",
       "      <th>loc_og_t2o_mou</th>\n",
       "      <td>loc_og_t2o_mou</td>\n",
       "      <td>0.001429</td>\n",
       "    </tr>\n",
       "    <tr>\n",
       "      <th>std_og_t2o_mou</th>\n",
       "      <td>std_og_t2o_mou</td>\n",
       "      <td>0.001429</td>\n",
       "    </tr>\n",
       "    <tr>\n",
       "      <th>loc_ic_t2o_mou</th>\n",
       "      <td>loc_ic_t2o_mou</td>\n",
       "      <td>0.001429</td>\n",
       "    </tr>\n",
       "    <tr>\n",
       "      <th>last_date_of_month_6</th>\n",
       "      <td>last_date_of_month_6</td>\n",
       "      <td>0.001429</td>\n",
       "    </tr>\n",
       "    <tr>\n",
       "      <th>last_date_of_month_7</th>\n",
       "      <td>last_date_of_month_7</td>\n",
       "      <td>0.001429</td>\n",
       "    </tr>\n",
       "    <tr>\n",
       "      <th>last_date_of_month_8</th>\n",
       "      <td>last_date_of_month_8</td>\n",
       "      <td>0.001429</td>\n",
       "    </tr>\n",
       "    <tr>\n",
       "      <th>std_og_t2c_mou_7</th>\n",
       "      <td>std_og_t2c_mou_7</td>\n",
       "      <td>0.001429</td>\n",
       "    </tr>\n",
       "    <tr>\n",
       "      <th>std_ic_t2o_mou_8</th>\n",
       "      <td>std_ic_t2o_mou_8</td>\n",
       "      <td>0.001429</td>\n",
       "    </tr>\n",
       "    <tr>\n",
       "      <th>std_ic_t2o_mou_6</th>\n",
       "      <td>std_ic_t2o_mou_6</td>\n",
       "      <td>0.001429</td>\n",
       "    </tr>\n",
       "    <tr>\n",
       "      <th>std_og_t2c_mou_8</th>\n",
       "      <td>std_og_t2c_mou_8</td>\n",
       "      <td>0.001429</td>\n",
       "    </tr>\n",
       "    <tr>\n",
       "      <th>std_og_t2c_mou_6</th>\n",
       "      <td>std_og_t2c_mou_6</td>\n",
       "      <td>0.001429</td>\n",
       "    </tr>\n",
       "    <tr>\n",
       "      <th>churn_probability</th>\n",
       "      <td>churn_probability</td>\n",
       "      <td>0.002857</td>\n",
       "    </tr>\n",
       "    <tr>\n",
       "      <th>monthly_2g_6</th>\n",
       "      <td>monthly_2g_6</td>\n",
       "      <td>0.007143</td>\n",
       "    </tr>\n",
       "    <tr>\n",
       "      <th>monthly_2g_8</th>\n",
       "      <td>monthly_2g_8</td>\n",
       "      <td>0.008572</td>\n",
       "    </tr>\n",
       "    <tr>\n",
       "      <th>monthly_2g_7</th>\n",
       "      <td>monthly_2g_7</td>\n",
       "      <td>0.008572</td>\n",
       "    </tr>\n",
       "    <tr>\n",
       "      <th>monthly_3g_6</th>\n",
       "      <td>monthly_3g_6</td>\n",
       "      <td>0.014286</td>\n",
       "    </tr>\n",
       "    <tr>\n",
       "      <th>monthly_3g_8</th>\n",
       "      <td>monthly_3g_8</td>\n",
       "      <td>0.017143</td>\n",
       "    </tr>\n",
       "    <tr>\n",
       "      <th>monthly_3g_7</th>\n",
       "      <td>monthly_3g_7</td>\n",
       "      <td>0.018572</td>\n",
       "    </tr>\n",
       "  </tbody>\n",
       "</table>\n",
       "</div>"
      ],
      "text/plain": [
       "                               column_name  percent_unique\n",
       "std_ic_t2o_mou_7          std_ic_t2o_mou_7        0.001429\n",
       "circle_id                        circle_id        0.001429\n",
       "loc_og_t2o_mou              loc_og_t2o_mou        0.001429\n",
       "std_og_t2o_mou              std_og_t2o_mou        0.001429\n",
       "loc_ic_t2o_mou              loc_ic_t2o_mou        0.001429\n",
       "last_date_of_month_6  last_date_of_month_6        0.001429\n",
       "last_date_of_month_7  last_date_of_month_7        0.001429\n",
       "last_date_of_month_8  last_date_of_month_8        0.001429\n",
       "std_og_t2c_mou_7          std_og_t2c_mou_7        0.001429\n",
       "std_ic_t2o_mou_8          std_ic_t2o_mou_8        0.001429\n",
       "std_ic_t2o_mou_6          std_ic_t2o_mou_6        0.001429\n",
       "std_og_t2c_mou_8          std_og_t2c_mou_8        0.001429\n",
       "std_og_t2c_mou_6          std_og_t2c_mou_6        0.001429\n",
       "churn_probability        churn_probability        0.002857\n",
       "monthly_2g_6                  monthly_2g_6        0.007143\n",
       "monthly_2g_8                  monthly_2g_8        0.008572\n",
       "monthly_2g_7                  monthly_2g_7        0.008572\n",
       "monthly_3g_6                  monthly_3g_6        0.014286\n",
       "monthly_3g_8                  monthly_3g_8        0.017143\n",
       "monthly_3g_7                  monthly_3g_7        0.018572"
      ]
     },
     "execution_count": 15,
     "metadata": {},
     "output_type": "execute_result"
    }
   ],
   "source": [
    "percent_unique = telecom_df.nunique() * 100 / len(telecom_df)\n",
    "unique_value_df = pd.DataFrame({'column_name': telecom_df.columns,\n",
    "                                 'percent_unique': percent_unique}\n",
    "                               )\n",
    "unique_value_df.sort_values('percent_unique', inplace=True)\n",
    "unique_value_df.head(20)"
   ]
  },
  {
   "cell_type": "code",
   "execution_count": 16,
   "id": "12163ff6",
   "metadata": {},
   "outputs": [
    {
     "data": {
      "text/plain": [
       "['std_ic_t2o_mou_7',\n",
       " 'circle_id',\n",
       " 'loc_og_t2o_mou',\n",
       " 'std_og_t2o_mou',\n",
       " 'loc_ic_t2o_mou',\n",
       " 'last_date_of_month_6',\n",
       " 'last_date_of_month_7',\n",
       " 'last_date_of_month_8',\n",
       " 'std_og_t2c_mou_7',\n",
       " 'std_ic_t2o_mou_8',\n",
       " 'std_ic_t2o_mou_6',\n",
       " 'std_og_t2c_mou_8',\n",
       " 'std_og_t2c_mou_6',\n",
       " 'monthly_2g_6',\n",
       " 'monthly_2g_8',\n",
       " 'monthly_2g_7',\n",
       " 'monthly_3g_6',\n",
       " 'monthly_3g_8',\n",
       " 'monthly_3g_7',\n",
       " 'sachet_3g_6',\n",
       " 'sachet_3g_7',\n",
       " 'sachet_3g_8',\n",
       " 'date_of_last_rech_6',\n",
       " 'sachet_2g_6',\n",
       " 'date_of_last_rech_8',\n",
       " 'date_of_last_rech_7',\n",
       " 'sachet_2g_8',\n",
       " 'sachet_2g_7',\n",
       " 'spl_ic_mou_6',\n",
       " 'total_rech_num_8',\n",
       " 'total_rech_num_6',\n",
       " 'spl_ic_mou_8',\n",
       " 'total_rech_num_7',\n",
       " 'spl_ic_mou_7',\n",
       " 'og_others_7',\n",
       " 'last_day_rch_amt_7',\n",
       " 'max_rech_amt_7',\n",
       " 'og_others_8',\n",
       " 'last_day_rch_amt_6',\n",
       " 'max_rech_amt_6',\n",
       " 'last_day_rch_amt_8',\n",
       " 'max_rech_amt_8',\n",
       " 'og_others_6',\n",
       " 'isd_og_mou_8',\n",
       " 'isd_og_mou_7',\n",
       " 'isd_og_mou_6']"
      ]
     },
     "execution_count": 16,
     "metadata": {},
     "output_type": "execute_result"
    }
   ],
   "source": [
    "unique_col_list = list(unique_value_df.index[unique_value_df['percent_unique'] <= 2])\n",
    "unique_col_list.remove('churn_probability')\n",
    "unique_col_list"
   ]
  },
  {
   "cell_type": "code",
   "execution_count": 17,
   "id": "c758240f",
   "metadata": {},
   "outputs": [
    {
     "data": {
      "text/plain": [
       "(69999, 96)"
      ]
     },
     "execution_count": 17,
     "metadata": {},
     "output_type": "execute_result"
    }
   ],
   "source": [
    "telecom_df.drop(unique_col_list, axis=1, inplace=True)\n",
    "telecom_df.shape"
   ]
  },
  {
   "cell_type": "markdown",
   "id": "015db85d",
   "metadata": {},
   "source": [
    "### Feature Analysis\n",
    "* Plots to analysis relation between final variable and feature"
   ]
  },
  {
   "cell_type": "code",
   "execution_count": 18,
   "id": "1484563d",
   "metadata": {},
   "outputs": [
    {
     "data": {
      "text/html": [
       "<div>\n",
       "<style scoped>\n",
       "    .dataframe tbody tr th:only-of-type {\n",
       "        vertical-align: middle;\n",
       "    }\n",
       "\n",
       "    .dataframe tbody tr th {\n",
       "        vertical-align: top;\n",
       "    }\n",
       "\n",
       "    .dataframe thead th {\n",
       "        text-align: right;\n",
       "    }\n",
       "</style>\n",
       "<table border=\"1\" class=\"dataframe\">\n",
       "  <thead>\n",
       "    <tr style=\"text-align: right;\">\n",
       "      <th></th>\n",
       "      <th>id</th>\n",
       "      <th>arpu_6</th>\n",
       "      <th>arpu_7</th>\n",
       "      <th>arpu_8</th>\n",
       "      <th>onnet_mou_6</th>\n",
       "      <th>onnet_mou_7</th>\n",
       "      <th>onnet_mou_8</th>\n",
       "      <th>offnet_mou_6</th>\n",
       "      <th>offnet_mou_7</th>\n",
       "      <th>offnet_mou_8</th>\n",
       "      <th>...</th>\n",
       "      <th>vol_2g_mb_7</th>\n",
       "      <th>vol_2g_mb_8</th>\n",
       "      <th>vol_3g_mb_6</th>\n",
       "      <th>vol_3g_mb_7</th>\n",
       "      <th>vol_3g_mb_8</th>\n",
       "      <th>aon</th>\n",
       "      <th>aug_vbc_3g</th>\n",
       "      <th>jul_vbc_3g</th>\n",
       "      <th>jun_vbc_3g</th>\n",
       "      <th>churn_probability</th>\n",
       "    </tr>\n",
       "  </thead>\n",
       "  <tbody>\n",
       "    <tr>\n",
       "      <th>0</th>\n",
       "      <td>0</td>\n",
       "      <td>31.277</td>\n",
       "      <td>87.009</td>\n",
       "      <td>7.527</td>\n",
       "      <td>48.58</td>\n",
       "      <td>124.38</td>\n",
       "      <td>1.29</td>\n",
       "      <td>32.24</td>\n",
       "      <td>96.68</td>\n",
       "      <td>2.33</td>\n",
       "      <td>...</td>\n",
       "      <td>0.00</td>\n",
       "      <td>0.00</td>\n",
       "      <td>0.0</td>\n",
       "      <td>0.00</td>\n",
       "      <td>0.0</td>\n",
       "      <td>1958</td>\n",
       "      <td>0.0</td>\n",
       "      <td>0.0</td>\n",
       "      <td>0.0</td>\n",
       "      <td>0</td>\n",
       "    </tr>\n",
       "    <tr>\n",
       "      <th>1</th>\n",
       "      <td>1</td>\n",
       "      <td>0.000</td>\n",
       "      <td>122.787</td>\n",
       "      <td>42.953</td>\n",
       "      <td>0.00</td>\n",
       "      <td>0.00</td>\n",
       "      <td>0.00</td>\n",
       "      <td>0.00</td>\n",
       "      <td>25.99</td>\n",
       "      <td>30.89</td>\n",
       "      <td>...</td>\n",
       "      <td>352.91</td>\n",
       "      <td>0.00</td>\n",
       "      <td>0.0</td>\n",
       "      <td>3.96</td>\n",
       "      <td>0.0</td>\n",
       "      <td>710</td>\n",
       "      <td>0.0</td>\n",
       "      <td>0.0</td>\n",
       "      <td>0.0</td>\n",
       "      <td>0</td>\n",
       "    </tr>\n",
       "    <tr>\n",
       "      <th>2</th>\n",
       "      <td>2</td>\n",
       "      <td>60.806</td>\n",
       "      <td>103.176</td>\n",
       "      <td>0.000</td>\n",
       "      <td>0.53</td>\n",
       "      <td>15.93</td>\n",
       "      <td>0.00</td>\n",
       "      <td>53.99</td>\n",
       "      <td>82.05</td>\n",
       "      <td>0.00</td>\n",
       "      <td>...</td>\n",
       "      <td>0.00</td>\n",
       "      <td>0.00</td>\n",
       "      <td>0.0</td>\n",
       "      <td>0.00</td>\n",
       "      <td>0.0</td>\n",
       "      <td>882</td>\n",
       "      <td>0.0</td>\n",
       "      <td>0.0</td>\n",
       "      <td>0.0</td>\n",
       "      <td>0</td>\n",
       "    </tr>\n",
       "    <tr>\n",
       "      <th>3</th>\n",
       "      <td>3</td>\n",
       "      <td>156.362</td>\n",
       "      <td>205.260</td>\n",
       "      <td>111.095</td>\n",
       "      <td>7.26</td>\n",
       "      <td>16.01</td>\n",
       "      <td>0.00</td>\n",
       "      <td>68.76</td>\n",
       "      <td>78.48</td>\n",
       "      <td>50.23</td>\n",
       "      <td>...</td>\n",
       "      <td>0.00</td>\n",
       "      <td>0.00</td>\n",
       "      <td>0.0</td>\n",
       "      <td>0.00</td>\n",
       "      <td>0.0</td>\n",
       "      <td>982</td>\n",
       "      <td>0.0</td>\n",
       "      <td>0.0</td>\n",
       "      <td>0.0</td>\n",
       "      <td>0</td>\n",
       "    </tr>\n",
       "    <tr>\n",
       "      <th>4</th>\n",
       "      <td>4</td>\n",
       "      <td>240.708</td>\n",
       "      <td>128.191</td>\n",
       "      <td>101.565</td>\n",
       "      <td>21.28</td>\n",
       "      <td>4.83</td>\n",
       "      <td>6.13</td>\n",
       "      <td>56.99</td>\n",
       "      <td>38.11</td>\n",
       "      <td>9.63</td>\n",
       "      <td>...</td>\n",
       "      <td>308.89</td>\n",
       "      <td>213.47</td>\n",
       "      <td>0.0</td>\n",
       "      <td>0.00</td>\n",
       "      <td>0.0</td>\n",
       "      <td>647</td>\n",
       "      <td>0.0</td>\n",
       "      <td>0.0</td>\n",
       "      <td>0.0</td>\n",
       "      <td>0</td>\n",
       "    </tr>\n",
       "  </tbody>\n",
       "</table>\n",
       "<p>5 rows × 96 columns</p>\n",
       "</div>"
      ],
      "text/plain": [
       "   id   arpu_6   arpu_7   arpu_8  onnet_mou_6  onnet_mou_7  onnet_mou_8  \\\n",
       "0   0   31.277   87.009    7.527        48.58       124.38         1.29   \n",
       "1   1    0.000  122.787   42.953         0.00         0.00         0.00   \n",
       "2   2   60.806  103.176    0.000         0.53        15.93         0.00   \n",
       "3   3  156.362  205.260  111.095         7.26        16.01         0.00   \n",
       "4   4  240.708  128.191  101.565        21.28         4.83         6.13   \n",
       "\n",
       "   offnet_mou_6  offnet_mou_7  offnet_mou_8  ...  vol_2g_mb_7  vol_2g_mb_8  \\\n",
       "0         32.24         96.68          2.33  ...         0.00         0.00   \n",
       "1          0.00         25.99         30.89  ...       352.91         0.00   \n",
       "2         53.99         82.05          0.00  ...         0.00         0.00   \n",
       "3         68.76         78.48         50.23  ...         0.00         0.00   \n",
       "4         56.99         38.11          9.63  ...       308.89       213.47   \n",
       "\n",
       "   vol_3g_mb_6  vol_3g_mb_7  vol_3g_mb_8   aon  aug_vbc_3g  jul_vbc_3g  \\\n",
       "0          0.0         0.00          0.0  1958         0.0         0.0   \n",
       "1          0.0         3.96          0.0   710         0.0         0.0   \n",
       "2          0.0         0.00          0.0   882         0.0         0.0   \n",
       "3          0.0         0.00          0.0   982         0.0         0.0   \n",
       "4          0.0         0.00          0.0   647         0.0         0.0   \n",
       "\n",
       "   jun_vbc_3g  churn_probability  \n",
       "0         0.0                  0  \n",
       "1         0.0                  0  \n",
       "2         0.0                  0  \n",
       "3         0.0                  0  \n",
       "4         0.0                  0  \n",
       "\n",
       "[5 rows x 96 columns]"
      ]
     },
     "execution_count": 18,
     "metadata": {},
     "output_type": "execute_result"
    }
   ],
   "source": [
    "telecom_df.head()"
   ]
  },
  {
   "cell_type": "code",
   "execution_count": 19,
   "id": "cf9babe8",
   "metadata": {},
   "outputs": [
    {
     "name": "stdout",
     "output_type": "stream",
     "text": [
      "<class 'pandas.core.frame.DataFrame'>\n",
      "RangeIndex: 69999 entries, 0 to 69998\n",
      "Data columns (total 96 columns):\n",
      " #   Column             Non-Null Count  Dtype  \n",
      "---  ------             --------------  -----  \n",
      " 0   id                 69999 non-null  int64  \n",
      " 1   arpu_6             69999 non-null  float64\n",
      " 2   arpu_7             69999 non-null  float64\n",
      " 3   arpu_8             69999 non-null  float64\n",
      " 4   onnet_mou_6        67231 non-null  float64\n",
      " 5   onnet_mou_7        67312 non-null  float64\n",
      " 6   onnet_mou_8        66296 non-null  float64\n",
      " 7   offnet_mou_6       67231 non-null  float64\n",
      " 8   offnet_mou_7       67312 non-null  float64\n",
      " 9   offnet_mou_8       66296 non-null  float64\n",
      " 10  roam_ic_mou_6      67231 non-null  float64\n",
      " 11  roam_ic_mou_7      67312 non-null  float64\n",
      " 12  roam_ic_mou_8      66296 non-null  float64\n",
      " 13  roam_og_mou_6      67231 non-null  float64\n",
      " 14  roam_og_mou_7      67312 non-null  float64\n",
      " 15  roam_og_mou_8      66296 non-null  float64\n",
      " 16  loc_og_t2t_mou_6   67231 non-null  float64\n",
      " 17  loc_og_t2t_mou_7   67312 non-null  float64\n",
      " 18  loc_og_t2t_mou_8   66296 non-null  float64\n",
      " 19  loc_og_t2m_mou_6   67231 non-null  float64\n",
      " 20  loc_og_t2m_mou_7   67312 non-null  float64\n",
      " 21  loc_og_t2m_mou_8   66296 non-null  float64\n",
      " 22  loc_og_t2f_mou_6   67231 non-null  float64\n",
      " 23  loc_og_t2f_mou_7   67312 non-null  float64\n",
      " 24  loc_og_t2f_mou_8   66296 non-null  float64\n",
      " 25  loc_og_t2c_mou_6   67231 non-null  float64\n",
      " 26  loc_og_t2c_mou_7   67312 non-null  float64\n",
      " 27  loc_og_t2c_mou_8   66296 non-null  float64\n",
      " 28  loc_og_mou_6       67231 non-null  float64\n",
      " 29  loc_og_mou_7       67312 non-null  float64\n",
      " 30  loc_og_mou_8       66296 non-null  float64\n",
      " 31  std_og_t2t_mou_6   67231 non-null  float64\n",
      " 32  std_og_t2t_mou_7   67312 non-null  float64\n",
      " 33  std_og_t2t_mou_8   66296 non-null  float64\n",
      " 34  std_og_t2m_mou_6   67231 non-null  float64\n",
      " 35  std_og_t2m_mou_7   67312 non-null  float64\n",
      " 36  std_og_t2m_mou_8   66296 non-null  float64\n",
      " 37  std_og_t2f_mou_6   67231 non-null  float64\n",
      " 38  std_og_t2f_mou_7   67312 non-null  float64\n",
      " 39  std_og_t2f_mou_8   66296 non-null  float64\n",
      " 40  std_og_mou_6       67231 non-null  float64\n",
      " 41  std_og_mou_7       67312 non-null  float64\n",
      " 42  std_og_mou_8       66296 non-null  float64\n",
      " 43  spl_og_mou_6       67231 non-null  float64\n",
      " 44  spl_og_mou_7       67312 non-null  float64\n",
      " 45  spl_og_mou_8       66296 non-null  float64\n",
      " 46  total_og_mou_6     69999 non-null  float64\n",
      " 47  total_og_mou_7     69999 non-null  float64\n",
      " 48  total_og_mou_8     69999 non-null  float64\n",
      " 49  loc_ic_t2t_mou_6   67231 non-null  float64\n",
      " 50  loc_ic_t2t_mou_7   67312 non-null  float64\n",
      " 51  loc_ic_t2t_mou_8   66296 non-null  float64\n",
      " 52  loc_ic_t2m_mou_6   67231 non-null  float64\n",
      " 53  loc_ic_t2m_mou_7   67312 non-null  float64\n",
      " 54  loc_ic_t2m_mou_8   66296 non-null  float64\n",
      " 55  loc_ic_t2f_mou_6   67231 non-null  float64\n",
      " 56  loc_ic_t2f_mou_7   67312 non-null  float64\n",
      " 57  loc_ic_t2f_mou_8   66296 non-null  float64\n",
      " 58  loc_ic_mou_6       67231 non-null  float64\n",
      " 59  loc_ic_mou_7       67312 non-null  float64\n",
      " 60  loc_ic_mou_8       66296 non-null  float64\n",
      " 61  std_ic_t2t_mou_6   67231 non-null  float64\n",
      " 62  std_ic_t2t_mou_7   67312 non-null  float64\n",
      " 63  std_ic_t2t_mou_8   66296 non-null  float64\n",
      " 64  std_ic_t2m_mou_6   67231 non-null  float64\n",
      " 65  std_ic_t2m_mou_7   67312 non-null  float64\n",
      " 66  std_ic_t2m_mou_8   66296 non-null  float64\n",
      " 67  std_ic_t2f_mou_6   67231 non-null  float64\n",
      " 68  std_ic_t2f_mou_7   67312 non-null  float64\n",
      " 69  std_ic_t2f_mou_8   66296 non-null  float64\n",
      " 70  std_ic_mou_6       67231 non-null  float64\n",
      " 71  std_ic_mou_7       67312 non-null  float64\n",
      " 72  std_ic_mou_8       66296 non-null  float64\n",
      " 73  total_ic_mou_6     69999 non-null  float64\n",
      " 74  total_ic_mou_7     69999 non-null  float64\n",
      " 75  total_ic_mou_8     69999 non-null  float64\n",
      " 76  isd_ic_mou_6       67231 non-null  float64\n",
      " 77  isd_ic_mou_7       67312 non-null  float64\n",
      " 78  isd_ic_mou_8       66296 non-null  float64\n",
      " 79  ic_others_6        67231 non-null  float64\n",
      " 80  ic_others_7        67312 non-null  float64\n",
      " 81  ic_others_8        66296 non-null  float64\n",
      " 82  total_rech_amt_6   69999 non-null  int64  \n",
      " 83  total_rech_amt_7   69999 non-null  int64  \n",
      " 84  total_rech_amt_8   69999 non-null  int64  \n",
      " 85  vol_2g_mb_6        69999 non-null  float64\n",
      " 86  vol_2g_mb_7        69999 non-null  float64\n",
      " 87  vol_2g_mb_8        69999 non-null  float64\n",
      " 88  vol_3g_mb_6        69999 non-null  float64\n",
      " 89  vol_3g_mb_7        69999 non-null  float64\n",
      " 90  vol_3g_mb_8        69999 non-null  float64\n",
      " 91  aon                69999 non-null  int64  \n",
      " 92  aug_vbc_3g         69999 non-null  float64\n",
      " 93  jul_vbc_3g         69999 non-null  float64\n",
      " 94  jun_vbc_3g         69999 non-null  float64\n",
      " 95  churn_probability  69999 non-null  int64  \n",
      "dtypes: float64(90), int64(6)\n",
      "memory usage: 51.3 MB\n"
     ]
    }
   ],
   "source": [
    "telecom_df.info()"
   ]
  },
  {
   "cell_type": "code",
   "execution_count": 20,
   "id": "6027a6a1",
   "metadata": {},
   "outputs": [],
   "source": [
    "# Util method to fill columns values\n",
    "# If column type is Number, use Median\n",
    "# If column type is String, use Mode\n",
    "def fill_missing_values(df):    \n",
    "    column_list = df.isnull().sum()\n",
    "    column_list = column_list[column_list > 0]\n",
    "\n",
    "    for col in column_list.index:\n",
    "        column_dtype_name = df[col].dtype.name\n",
    "        if column_dtype_name == 'object':\n",
    "            # Categorical Columns\n",
    "            df[col].fillna(df[col].mode()[0], inplace=True)\n",
    "        elif column_dtype_name == 'float64' or column_dtype_name == 'int64' or column_dtype_name == 'int32':\n",
    "            # Numerical Columns\n",
    "            df[col] = df[col].fillna((df[col].median()))\n",
    "        else:\n",
    "            print('Unknown column type for: {}'.format(col))\n",
    "            \n",
    "    return df"
   ]
  },
  {
   "cell_type": "code",
   "execution_count": 21,
   "id": "072cb793",
   "metadata": {},
   "outputs": [],
   "source": [
    "telecom_df = fill_missing_values(telecom_df)"
   ]
  },
  {
   "cell_type": "markdown",
   "id": "2894ce3c",
   "metadata": {},
   "source": [
    "#### We have class imbalance:\n",
    "* non-chrum class has 62867 rows\n",
    "* chrun class has 7123 rows\n",
    "\n",
    "Apply SMOTE to balance the classes in the data set"
   ]
  },
  {
   "cell_type": "code",
   "execution_count": 22,
   "id": "1e7b86b6",
   "metadata": {},
   "outputs": [
    {
     "name": "stdout",
     "output_type": "stream",
     "text": [
      "Original non-chrun/Chrun diff: 55735\n"
     ]
    }
   ],
   "source": [
    "### Check Class imbalance\n",
    "chrun_len = len(telecom_df[telecom_df['churn_probability'] == 1])\n",
    "non_chrun_len = len(telecom_df[telecom_df['churn_probability'] == 0])\n",
    "\n",
    "print(\"Original non-chrun/Chrun diff: {}\".format(abs(chrun_len - non_chrun_len)))"
   ]
  },
  {
   "cell_type": "code",
   "execution_count": 23,
   "id": "2dd4fe5a",
   "metadata": {},
   "outputs": [],
   "source": [
    "y = telecom_df.pop('churn_probability')\n",
    "X = telecom_df"
   ]
  },
  {
   "cell_type": "code",
   "execution_count": 24,
   "id": "76a0c427",
   "metadata": {},
   "outputs": [],
   "source": [
    "sm = SMOTE(random_state=27)\n",
    "X_res, y_res = sm.fit_resample(X, y)"
   ]
  },
  {
   "cell_type": "code",
   "execution_count": 25,
   "id": "d6d9dce8",
   "metadata": {},
   "outputs": [],
   "source": [
    "telecom_df = pd.concat([X_res.reset_index(drop=True), \n",
    "                        y_res.to_frame().reset_index(drop=True)], axis=1)"
   ]
  },
  {
   "cell_type": "code",
   "execution_count": 26,
   "id": "1476954d",
   "metadata": {},
   "outputs": [
    {
     "name": "stdout",
     "output_type": "stream",
     "text": [
      "Updated non-chrun/Chrun diff: 0\n"
     ]
    }
   ],
   "source": [
    "chrun_len = len(telecom_df[telecom_df['churn_probability'] == 1])\n",
    "non_chrun_len = len(telecom_df[telecom_df['churn_probability'] == 0])\n",
    "\n",
    "print(\"Updated non-chrun/Chrun diff: {}\".format(abs(chrun_len - non_chrun_len)))"
   ]
  },
  {
   "cell_type": "markdown",
   "id": "69316589",
   "metadata": {},
   "source": [
    "### Visual Analysis\n",
    "\n",
    "##### Outlier detection plots are not included in this notebook as they were not very helpful."
   ]
  },
  {
   "cell_type": "code",
   "execution_count": 27,
   "id": "06d3ab5a",
   "metadata": {},
   "outputs": [],
   "source": [
    "def draw_scatterplot(df, xAxis, yAxis):\n",
    "    '''\n",
    "    Util method to plot barplot\n",
    "    input: X and Y axis column name\n",
    "    output: Plot\n",
    "    return: None\n",
    "    '''\n",
    "    plt.figure(figsize=(20,10))\n",
    "    plt.ylabel(yAxis,fontsize=14,color='w')\n",
    "    plt.xlabel(xAxis,fontsize=14,color = 'w')      \n",
    "    plt.title(\"Barplot: {0} vs {1}\".format(xAxis, yAxis),fontsize=14)\n",
    "    sbn.scatterplot(data=df, x=xAxis, y=yAxis, orient='v')\n",
    "    plt.show()"
   ]
  },
  {
   "cell_type": "markdown",
   "id": "54009aa8",
   "metadata": {},
   "source": [
    "### Derived features for analysis"
   ]
  },
  {
   "cell_type": "markdown",
   "id": "163b2e26",
   "metadata": {},
   "source": [
    "#### Deriving average columns"
   ]
  },
  {
   "cell_type": "code",
   "execution_count": 28,
   "id": "3a20dcf0",
   "metadata": {},
   "outputs": [],
   "source": [
    "telecom_df['avg_arpu_action'] = (telecom_df['arpu_6'] + telecom_df['arpu_7'] + telecom_df['arpu_8'])/3\n",
    "telecom_df['avg_total_ic_mou'] = (telecom_df['total_ic_mou_6'] + telecom_df['total_ic_mou_7'] + telecom_df['total_ic_mou_8'])/3\n",
    "telecom_df['avg_std_ic_mou'] = (telecom_df['std_ic_mou_6'] + telecom_df['std_ic_mou_7'] + telecom_df['std_ic_mou_8'])/3\n",
    "telecom_df['avg_std_og_mou'] = (telecom_df['std_og_mou_6'] + telecom_df['std_og_mou_7'] + telecom_df['std_og_mou_8'])/3\n",
    "telecom_df['avg_vol_2g_mb'] = (telecom_df['vol_2g_mb_6'] + telecom_df['vol_2g_mb_7'] + telecom_df['vol_2g_mb_8'])/3\n",
    "telecom_df['avg_vol_3g_mb'] = (telecom_df['vol_3g_mb_6'] + telecom_df['vol_3g_mb_7'] + telecom_df['vol_3g_mb_8'])/3\n",
    "telecom_df['avg_vbc_3g'] = (telecom_df['aug_vbc_3g'] + telecom_df['jul_vbc_3g'] + telecom_df['jun_vbc_3g'])/3\n",
    "telecom_df['avg_total_rech_amt'] = (telecom_df['total_rech_amt_6'] + telecom_df['total_rech_amt_7'] + telecom_df['total_rech_amt_8'])/3\n",
    "telecom_df['avg_total_og_mou'] = (telecom_df['total_og_mou_6'] + telecom_df['total_og_mou_7'] + telecom_df['total_og_mou_8'])/3\n",
    "\n",
    "telecom_df['avg_offnet_mou'] = (telecom_df['offnet_mou_6'] + telecom_df['offnet_mou_7'] + telecom_df['offnet_mou_8'])/3\n",
    "telecom_df['avg_onnet_mou'] = (telecom_df['onnet_mou_6'] + telecom_df['onnet_mou_7'] + telecom_df['onnet_mou_8'])/3\n",
    "telecom_df['avg_roam_ic_mou'] = (telecom_df['roam_ic_mou_6'] + telecom_df['roam_ic_mou_7'] + telecom_df['roam_ic_mou_8'])/3\n",
    "telecom_df['avg_roam_ic_mou'] = (telecom_df['roam_og_mou_6'] + telecom_df['roam_og_mou_7'] + telecom_df['roam_og_mou_8'])/3\n",
    "telecom_df['avg_spl_og_mou'] = (telecom_df['spl_og_mou_6'] + telecom_df['spl_og_mou_7'] + telecom_df['spl_og_mou_8'])/3"
   ]
  },
  {
   "cell_type": "markdown",
   "id": "af07aa90",
   "metadata": {},
   "source": [
    "#### Deriving difference columns"
   ]
  },
  {
   "cell_type": "code",
   "execution_count": 29,
   "id": "95afdfd4",
   "metadata": {},
   "outputs": [],
   "source": [
    "# Churn dataframe\n",
    "telecom_churn = telecom_df[telecom_df['churn_probability'] == 1]\n",
    "\n",
    "# Non-churn dataframe\n",
    "telecom_non_churn = telecom_df[telecom_df['churn_probability'] == 0]"
   ]
  },
  {
   "cell_type": "code",
   "execution_count": 30,
   "id": "cd30d20b",
   "metadata": {},
   "outputs": [],
   "source": [
    "def dist_plot_compare(df_churn, df_non_churn, column_name):\n",
    "    plt.figure(figsize=(12,8))\n",
    "    ax = sns.distplot(df_churn[column_name], label='churn', hist=False)\n",
    "    ax = sns.distplot(df_non_churn[column_name], label='not churn', hist=False)\n",
    "    ax.set(xlabel=\" \".join(column_name.split(\"_\")))\n",
    "    plt.legend()\n",
    "    plt.show()"
   ]
  },
  {
   "cell_type": "code",
   "execution_count": 31,
   "id": "988b7a44",
   "metadata": {},
   "outputs": [
    {
     "data": {
      "image/png": "[encoded data removed]",
      "text/plain": [
       "<Figure size 864x576 with 1 Axes>"
      ]
     },
     "metadata": {
      "needs_background": "light"
     },
     "output_type": "display_data"
    }
   ],
   "source": [
    "dist_plot_compare(telecom_churn, telecom_non_churn, 'avg_arpu_action')"
   ]
  },
  {
   "cell_type": "code",
   "execution_count": 32,
   "id": "955c689a",
   "metadata": {},
   "outputs": [
    {
     "data": {
      "image/png": "[encoded data removed]",
      "text/plain": [
       "<Figure size 864x576 with 1 Axes>"
      ]
     },
     "metadata": {
      "needs_background": "light"
     },
     "output_type": "display_data"
    }
   ],
   "source": [
    "dist_plot_compare(telecom_churn, telecom_non_churn, 'avg_total_ic_mou')"
   ]
  },
  {
   "cell_type": "code",
   "execution_count": 33,
   "id": "4092d734",
   "metadata": {},
   "outputs": [
    {
     "data": {
      "image/png": "[encoded data removed]",
      "text/plain": [
       "<Figure size 864x576 with 1 Axes>"
      ]
     },
     "metadata": {
      "needs_background": "light"
     },
     "output_type": "display_data"
    }
   ],
   "source": [
    "dist_plot_compare(telecom_churn, telecom_non_churn, 'avg_vol_2g_mb')"
   ]
  },
  {
   "cell_type": "code",
   "execution_count": 34,
   "id": "08fbd778",
   "metadata": {},
   "outputs": [
    {
     "data": {
      "image/png": "[encoded data removed]",
      "text/plain": [
       "<Figure size 864x576 with 1 Axes>"
      ]
     },
     "metadata": {
      "needs_background": "light"
     },
     "output_type": "display_data"
    }
   ],
   "source": [
    "dist_plot_compare(telecom_churn, telecom_non_churn, 'avg_vol_3g_mb')"
   ]
  },
  {
   "cell_type": "code",
   "execution_count": 35,
   "id": "9dc8c8e0",
   "metadata": {},
   "outputs": [
    {
     "data": {
      "image/png": "[encoded data removed]",
      "text/plain": [
       "<Figure size 864x576 with 1 Axes>"
      ]
     },
     "metadata": {
      "needs_background": "light"
     },
     "output_type": "display_data"
    }
   ],
   "source": [
    "dist_plot_compare(telecom_churn, telecom_non_churn, 'avg_vbc_3g')"
   ]
  },
  {
   "cell_type": "code",
   "execution_count": 36,
   "id": "0394df1d",
   "metadata": {},
   "outputs": [
    {
     "data": {
      "image/png": "[encoded data removed]",
      "text/plain": [
       "<Figure size 864x576 with 1 Axes>"
      ]
     },
     "metadata": {
      "needs_background": "light"
     },
     "output_type": "display_data"
    }
   ],
   "source": [
    "dist_plot_compare(telecom_churn, telecom_non_churn, 'avg_total_rech_amt')"
   ]
  },
  {
   "cell_type": "code",
   "execution_count": 37,
   "id": "372fb8f1",
   "metadata": {},
   "outputs": [
    {
     "data": {
      "image/png": "[encoded data removed]",
      "text/plain": [
       "<Figure size 864x576 with 1 Axes>"
      ]
     },
     "metadata": {
      "needs_background": "light"
     },
     "output_type": "display_data"
    }
   ],
   "source": [
    "dist_plot_compare(telecom_churn, telecom_non_churn, 'avg_std_ic_mou')"
   ]
  },
  {
   "cell_type": "code",
   "execution_count": 38,
   "id": "d70b49a7",
   "metadata": {},
   "outputs": [
    {
     "data": {
      "image/png": "[encoded data removed]",
      "text/plain": [
       "<Figure size 864x576 with 1 Axes>"
      ]
     },
     "metadata": {
      "needs_background": "light"
     },
     "output_type": "display_data"
    }
   ],
   "source": [
    "dist_plot_compare(telecom_churn, telecom_non_churn, 'avg_total_og_mou')"
   ]
  },
  {
   "cell_type": "code",
   "execution_count": 39,
   "id": "a7aef55c",
   "metadata": {},
   "outputs": [
    {
     "data": {
      "image/png": "[encoded data removed]",
      "text/plain": [
       "<Figure size 864x576 with 1 Axes>"
      ]
     },
     "metadata": {
      "needs_background": "light"
     },
     "output_type": "display_data"
    }
   ],
   "source": [
    "dist_plot_compare(telecom_churn, telecom_non_churn, 'avg_offnet_mou')"
   ]
  },
  {
   "cell_type": "markdown",
   "id": "a88ac461",
   "metadata": {},
   "source": [
    "### Analysis for chrun case:\n",
    "\n",
    "Following properties of customer are changes in last (8th month) when compared with avarage of 6th and 7th month:\n",
    "* Customer generating high revenue.\n",
    "* Customer spending more on Recharge amount.\n",
    "* Customer with high number of incoming STD call.\n",
    "* Customer making high number of calls to external network call.\n",
    "* Customer with more number of outgoing call\n",
    "* Customer using 2G compared to 3G"
   ]
  },
  {
   "cell_type": "code",
   "execution_count": 40,
   "id": "fd775ba8",
   "metadata": {},
   "outputs": [
    {
     "data": {
      "image/png": "[encoded data removed]",
      "text/plain": [
       "<Figure size 864x576 with 1 Axes>"
      ]
     },
     "metadata": {
      "needs_background": "light"
     },
     "output_type": "display_data"
    }
   ],
   "source": [
    "dist_plot_compare(telecom_churn, telecom_non_churn, 'avg_onnet_mou')"
   ]
  },
  {
   "cell_type": "code",
   "execution_count": 41,
   "id": "afc8d36d",
   "metadata": {},
   "outputs": [
    {
     "data": {
      "image/png": "[encoded data removed]",
      "text/plain": [
       "<Figure size 864x576 with 1 Axes>"
      ]
     },
     "metadata": {
      "needs_background": "light"
     },
     "output_type": "display_data"
    }
   ],
   "source": [
    "dist_plot_compare(telecom_churn, telecom_non_churn, 'avg_roam_ic_mou')"
   ]
  },
  {
   "cell_type": "code",
   "execution_count": 42,
   "id": "e4a37ae8",
   "metadata": {},
   "outputs": [
    {
     "data": {
      "image/png": "[encoded data removed]",
      "text/plain": [
       "<Figure size 864x576 with 1 Axes>"
      ]
     },
     "metadata": {
      "needs_background": "light"
     },
     "output_type": "display_data"
    }
   ],
   "source": [
    "dist_plot_compare(telecom_churn, telecom_non_churn, 'avg_spl_og_mou')"
   ]
  },
  {
   "cell_type": "markdown",
   "id": "0b44da79",
   "metadata": {},
   "source": [
    "### Analysis on non-chrun:\n",
    "Customer with following properties are most likely to noot-chrun\n",
    "* Customer calling between same network (onnet).\n",
    "* Customer with more incoming calls in roaming.\n",
    "* Customer with more special calls"
   ]
  },
  {
   "cell_type": "code",
   "execution_count": 43,
   "id": "8dfebca6",
   "metadata": {},
   "outputs": [
    {
     "data": {
      "text/plain": [
       "(125734, 96)"
      ]
     },
     "execution_count": 43,
     "metadata": {},
     "output_type": "execute_result"
    }
   ],
   "source": [
    "# Time to delete, newly added avg columns, which were added for visual analysis.\n",
    "new_avg_cols = [col for col in telecom_df.columns if \"avg_\" in col]\n",
    "telecom_df.drop(new_avg_cols, axis=1, inplace=True)\n",
    "telecom_df.shape"
   ]
  },
  {
   "cell_type": "code",
   "execution_count": null,
   "id": "acf980a1",
   "metadata": {},
   "outputs": [],
   "source": []
  },
  {
   "cell_type": "markdown",
   "id": "b14cb56e",
   "metadata": {},
   "source": [
    "### Correlation analysis\n",
    "We need to analyse the correlation metrics of various columns:\n",
    "* Will give us idea about the co-related features\n",
    "* Will help to decide if PCA can be applied or not."
   ]
  },
  {
   "cell_type": "code",
   "execution_count": 44,
   "id": "833267ec",
   "metadata": {},
   "outputs": [
    {
     "data": {
      "text/html": [
       "<div>\n",
       "<style scoped>\n",
       "    .dataframe tbody tr th:only-of-type {\n",
       "        vertical-align: middle;\n",
       "    }\n",
       "\n",
       "    .dataframe tbody tr th {\n",
       "        vertical-align: top;\n",
       "    }\n",
       "\n",
       "    .dataframe thead th {\n",
       "        text-align: right;\n",
       "    }\n",
       "</style>\n",
       "<table border=\"1\" class=\"dataframe\">\n",
       "  <thead>\n",
       "    <tr style=\"text-align: right;\">\n",
       "      <th></th>\n",
       "      <th>id</th>\n",
       "      <th>arpu_6</th>\n",
       "      <th>arpu_7</th>\n",
       "      <th>arpu_8</th>\n",
       "      <th>onnet_mou_6</th>\n",
       "      <th>onnet_mou_7</th>\n",
       "      <th>onnet_mou_8</th>\n",
       "      <th>offnet_mou_6</th>\n",
       "      <th>offnet_mou_7</th>\n",
       "      <th>offnet_mou_8</th>\n",
       "      <th>...</th>\n",
       "      <th>vol_2g_mb_7</th>\n",
       "      <th>vol_2g_mb_8</th>\n",
       "      <th>vol_3g_mb_6</th>\n",
       "      <th>vol_3g_mb_7</th>\n",
       "      <th>vol_3g_mb_8</th>\n",
       "      <th>aon</th>\n",
       "      <th>aug_vbc_3g</th>\n",
       "      <th>jul_vbc_3g</th>\n",
       "      <th>jun_vbc_3g</th>\n",
       "      <th>churn_probability</th>\n",
       "    </tr>\n",
       "  </thead>\n",
       "  <tbody>\n",
       "    <tr>\n",
       "      <th>id</th>\n",
       "      <td>1.000000</td>\n",
       "      <td>-0.007153</td>\n",
       "      <td>0.007119</td>\n",
       "      <td>0.006518</td>\n",
       "      <td>-0.002695</td>\n",
       "      <td>0.001818</td>\n",
       "      <td>-0.001962</td>\n",
       "      <td>-0.011511</td>\n",
       "      <td>-0.007706</td>\n",
       "      <td>-0.004273</td>\n",
       "      <td>...</td>\n",
       "      <td>0.002329</td>\n",
       "      <td>0.007626</td>\n",
       "      <td>0.004599</td>\n",
       "      <td>0.002287</td>\n",
       "      <td>0.004755</td>\n",
       "      <td>0.009326</td>\n",
       "      <td>0.009069</td>\n",
       "      <td>0.002236</td>\n",
       "      <td>0.005137</td>\n",
       "      <td>-0.002174</td>\n",
       "    </tr>\n",
       "    <tr>\n",
       "      <th>arpu_6</th>\n",
       "      <td>-0.007153</td>\n",
       "      <td>1.000000</td>\n",
       "      <td>0.651631</td>\n",
       "      <td>0.498572</td>\n",
       "      <td>0.473986</td>\n",
       "      <td>0.327567</td>\n",
       "      <td>0.234888</td>\n",
       "      <td>0.604014</td>\n",
       "      <td>0.420906</td>\n",
       "      <td>0.300186</td>\n",
       "      <td>...</td>\n",
       "      <td>0.044533</td>\n",
       "      <td>0.029618</td>\n",
       "      <td>0.228604</td>\n",
       "      <td>0.162140</td>\n",
       "      <td>0.150433</td>\n",
       "      <td>0.018289</td>\n",
       "      <td>0.131180</td>\n",
       "      <td>0.155314</td>\n",
       "      <td>0.200876</td>\n",
       "      <td>0.003973</td>\n",
       "    </tr>\n",
       "    <tr>\n",
       "      <th>arpu_7</th>\n",
       "      <td>0.007119</td>\n",
       "      <td>0.651631</td>\n",
       "      <td>1.000000</td>\n",
       "      <td>0.725052</td>\n",
       "      <td>0.317078</td>\n",
       "      <td>0.473854</td>\n",
       "      <td>0.358177</td>\n",
       "      <td>0.419296</td>\n",
       "      <td>0.610548</td>\n",
       "      <td>0.450372</td>\n",
       "      <td>...</td>\n",
       "      <td>0.109222</td>\n",
       "      <td>0.073846</td>\n",
       "      <td>0.165468</td>\n",
       "      <td>0.261678</td>\n",
       "      <td>0.207423</td>\n",
       "      <td>0.053834</td>\n",
       "      <td>0.186168</td>\n",
       "      <td>0.218242</td>\n",
       "      <td>0.156479</td>\n",
       "      <td>-0.143778</td>\n",
       "    </tr>\n",
       "    <tr>\n",
       "      <th>arpu_8</th>\n",
       "      <td>0.006518</td>\n",
       "      <td>0.498572</td>\n",
       "      <td>0.725052</td>\n",
       "      <td>1.000000</td>\n",
       "      <td>0.187112</td>\n",
       "      <td>0.323070</td>\n",
       "      <td>0.462102</td>\n",
       "      <td>0.268767</td>\n",
       "      <td>0.428644</td>\n",
       "      <td>0.610058</td>\n",
       "      <td>...</td>\n",
       "      <td>0.081104</td>\n",
       "      <td>0.127747</td>\n",
       "      <td>0.150230</td>\n",
       "      <td>0.205846</td>\n",
       "      <td>0.284760</td>\n",
       "      <td>0.105069</td>\n",
       "      <td>0.241752</td>\n",
       "      <td>0.187976</td>\n",
       "      <td>0.148420</td>\n",
       "      <td>-0.330570</td>\n",
       "    </tr>\n",
       "    <tr>\n",
       "      <th>onnet_mou_6</th>\n",
       "      <td>-0.002695</td>\n",
       "      <td>0.473986</td>\n",
       "      <td>0.317078</td>\n",
       "      <td>0.187112</td>\n",
       "      <td>1.000000</td>\n",
       "      <td>0.709825</td>\n",
       "      <td>0.497806</td>\n",
       "      <td>0.174744</td>\n",
       "      <td>0.113072</td>\n",
       "      <td>0.078286</td>\n",
       "      <td>...</td>\n",
       "      <td>-0.023288</td>\n",
       "      <td>-0.024835</td>\n",
       "      <td>-0.008181</td>\n",
       "      <td>-0.009339</td>\n",
       "      <td>-0.007777</td>\n",
       "      <td>-0.047933</td>\n",
       "      <td>-0.015414</td>\n",
       "      <td>-0.018752</td>\n",
       "      <td>-0.018910</td>\n",
       "      <td>0.055241</td>\n",
       "    </tr>\n",
       "    <tr>\n",
       "      <th>...</th>\n",
       "      <td>...</td>\n",
       "      <td>...</td>\n",
       "      <td>...</td>\n",
       "      <td>...</td>\n",
       "      <td>...</td>\n",
       "      <td>...</td>\n",
       "      <td>...</td>\n",
       "      <td>...</td>\n",
       "      <td>...</td>\n",
       "      <td>...</td>\n",
       "      <td>...</td>\n",
       "      <td>...</td>\n",
       "      <td>...</td>\n",
       "      <td>...</td>\n",
       "      <td>...</td>\n",
       "      <td>...</td>\n",
       "      <td>...</td>\n",
       "      <td>...</td>\n",
       "      <td>...</td>\n",
       "      <td>...</td>\n",
       "      <td>...</td>\n",
       "    </tr>\n",
       "    <tr>\n",
       "      <th>aon</th>\n",
       "      <td>0.009326</td>\n",
       "      <td>0.018289</td>\n",
       "      <td>0.053834</td>\n",
       "      <td>0.105069</td>\n",
       "      <td>-0.047933</td>\n",
       "      <td>-0.024414</td>\n",
       "      <td>0.005201</td>\n",
       "      <td>-0.011616</td>\n",
       "      <td>0.009870</td>\n",
       "      <td>0.044366</td>\n",
       "      <td>...</td>\n",
       "      <td>-0.009257</td>\n",
       "      <td>0.001529</td>\n",
       "      <td>-0.003372</td>\n",
       "      <td>0.002116</td>\n",
       "      <td>0.014900</td>\n",
       "      <td>1.000000</td>\n",
       "      <td>0.032882</td>\n",
       "      <td>0.026291</td>\n",
       "      <td>0.018445</td>\n",
       "      <td>-0.252043</td>\n",
       "    </tr>\n",
       "    <tr>\n",
       "      <th>aug_vbc_3g</th>\n",
       "      <td>0.009069</td>\n",
       "      <td>0.131180</td>\n",
       "      <td>0.186168</td>\n",
       "      <td>0.241752</td>\n",
       "      <td>-0.015414</td>\n",
       "      <td>0.001334</td>\n",
       "      <td>0.019173</td>\n",
       "      <td>0.009139</td>\n",
       "      <td>0.026646</td>\n",
       "      <td>0.052294</td>\n",
       "      <td>...</td>\n",
       "      <td>0.124878</td>\n",
       "      <td>0.127135</td>\n",
       "      <td>0.361179</td>\n",
       "      <td>0.461574</td>\n",
       "      <td>0.613824</td>\n",
       "      <td>0.032882</td>\n",
       "      <td>1.000000</td>\n",
       "      <td>0.671006</td>\n",
       "      <td>0.513586</td>\n",
       "      <td>-0.141132</td>\n",
       "    </tr>\n",
       "    <tr>\n",
       "      <th>jul_vbc_3g</th>\n",
       "      <td>0.002236</td>\n",
       "      <td>0.155314</td>\n",
       "      <td>0.218242</td>\n",
       "      <td>0.187976</td>\n",
       "      <td>-0.018752</td>\n",
       "      <td>-0.003874</td>\n",
       "      <td>0.009781</td>\n",
       "      <td>0.010382</td>\n",
       "      <td>0.024244</td>\n",
       "      <td>0.038964</td>\n",
       "      <td>...</td>\n",
       "      <td>0.135637</td>\n",
       "      <td>0.113089</td>\n",
       "      <td>0.436076</td>\n",
       "      <td>0.641177</td>\n",
       "      <td>0.470327</td>\n",
       "      <td>0.026291</td>\n",
       "      <td>0.671006</td>\n",
       "      <td>1.000000</td>\n",
       "      <td>0.639515</td>\n",
       "      <td>-0.098509</td>\n",
       "    </tr>\n",
       "    <tr>\n",
       "      <th>jun_vbc_3g</th>\n",
       "      <td>0.005137</td>\n",
       "      <td>0.200876</td>\n",
       "      <td>0.156479</td>\n",
       "      <td>0.148420</td>\n",
       "      <td>-0.018910</td>\n",
       "      <td>-0.016851</td>\n",
       "      <td>0.000518</td>\n",
       "      <td>0.016502</td>\n",
       "      <td>0.011353</td>\n",
       "      <td>0.025567</td>\n",
       "      <td>...</td>\n",
       "      <td>0.086433</td>\n",
       "      <td>0.092300</td>\n",
       "      <td>0.626654</td>\n",
       "      <td>0.455831</td>\n",
       "      <td>0.405687</td>\n",
       "      <td>0.018445</td>\n",
       "      <td>0.513586</td>\n",
       "      <td>0.639515</td>\n",
       "      <td>1.000000</td>\n",
       "      <td>-0.065323</td>\n",
       "    </tr>\n",
       "    <tr>\n",
       "      <th>churn_probability</th>\n",
       "      <td>-0.002174</td>\n",
       "      <td>0.003973</td>\n",
       "      <td>-0.143778</td>\n",
       "      <td>-0.330570</td>\n",
       "      <td>0.055241</td>\n",
       "      <td>-0.032493</td>\n",
       "      <td>-0.153974</td>\n",
       "      <td>0.020923</td>\n",
       "      <td>-0.075668</td>\n",
       "      <td>-0.210960</td>\n",
       "      <td>...</td>\n",
       "      <td>-0.090521</td>\n",
       "      <td>-0.141603</td>\n",
       "      <td>-0.048277</td>\n",
       "      <td>-0.086186</td>\n",
       "      <td>-0.133349</td>\n",
       "      <td>-0.252043</td>\n",
       "      <td>-0.141132</td>\n",
       "      <td>-0.098509</td>\n",
       "      <td>-0.065323</td>\n",
       "      <td>1.000000</td>\n",
       "    </tr>\n",
       "  </tbody>\n",
       "</table>\n",
       "<p>96 rows × 96 columns</p>\n",
       "</div>"
      ],
      "text/plain": [
       "                         id    arpu_6    arpu_7    arpu_8  onnet_mou_6  \\\n",
       "id                 1.000000 -0.007153  0.007119  0.006518    -0.002695   \n",
       "arpu_6            -0.007153  1.000000  0.651631  0.498572     0.473986   \n",
       "arpu_7             0.007119  0.651631  1.000000  0.725052     0.317078   \n",
       "arpu_8             0.006518  0.498572  0.725052  1.000000     0.187112   \n",
       "onnet_mou_6       -0.002695  0.473986  0.317078  0.187112     1.000000   \n",
       "...                     ...       ...       ...       ...          ...   \n",
       "aon                0.009326  0.018289  0.053834  0.105069    -0.047933   \n",
       "aug_vbc_3g         0.009069  0.131180  0.186168  0.241752    -0.015414   \n",
       "jul_vbc_3g         0.002236  0.155314  0.218242  0.187976    -0.018752   \n",
       "jun_vbc_3g         0.005137  0.200876  0.156479  0.148420    -0.018910   \n",
       "churn_probability -0.002174  0.003973 -0.143778 -0.330570     0.055241   \n",
       "\n",
       "                   onnet_mou_7  onnet_mou_8  offnet_mou_6  offnet_mou_7  \\\n",
       "id                    0.001818    -0.001962     -0.011511     -0.007706   \n",
       "arpu_6                0.327567     0.234888      0.604014      0.420906   \n",
       "arpu_7                0.473854     0.358177      0.419296      0.610548   \n",
       "arpu_8                0.323070     0.462102      0.268767      0.428644   \n",
       "onnet_mou_6           0.709825     0.497806      0.174744      0.113072   \n",
       "...                        ...          ...           ...           ...   \n",
       "aon                  -0.024414     0.005201     -0.011616      0.009870   \n",
       "aug_vbc_3g            0.001334     0.019173      0.009139      0.026646   \n",
       "jul_vbc_3g           -0.003874     0.009781      0.010382      0.024244   \n",
       "jun_vbc_3g           -0.016851     0.000518      0.016502      0.011353   \n",
       "churn_probability    -0.032493    -0.153974      0.020923     -0.075668   \n",
       "\n",
       "                   offnet_mou_8  ...  vol_2g_mb_7  vol_2g_mb_8  vol_3g_mb_6  \\\n",
       "id                    -0.004273  ...     0.002329     0.007626     0.004599   \n",
       "arpu_6                 0.300186  ...     0.044533     0.029618     0.228604   \n",
       "arpu_7                 0.450372  ...     0.109222     0.073846     0.165468   \n",
       "arpu_8                 0.610058  ...     0.081104     0.127747     0.150230   \n",
       "onnet_mou_6            0.078286  ...    -0.023288    -0.024835    -0.008181   \n",
       "...                         ...  ...          ...          ...          ...   \n",
       "aon                    0.044366  ...    -0.009257     0.001529    -0.003372   \n",
       "aug_vbc_3g             0.052294  ...     0.124878     0.127135     0.361179   \n",
       "jul_vbc_3g             0.038964  ...     0.135637     0.113089     0.436076   \n",
       "jun_vbc_3g             0.025567  ...     0.086433     0.092300     0.626654   \n",
       "churn_probability     -0.210960  ...    -0.090521    -0.141603    -0.048277   \n",
       "\n",
       "                   vol_3g_mb_7  vol_3g_mb_8       aon  aug_vbc_3g  jul_vbc_3g  \\\n",
       "id                    0.002287     0.004755  0.009326    0.009069    0.002236   \n",
       "arpu_6                0.162140     0.150433  0.018289    0.131180    0.155314   \n",
       "arpu_7                0.261678     0.207423  0.053834    0.186168    0.218242   \n",
       "arpu_8                0.205846     0.284760  0.105069    0.241752    0.187976   \n",
       "onnet_mou_6          -0.009339    -0.007777 -0.047933   -0.015414   -0.018752   \n",
       "...                        ...          ...       ...         ...         ...   \n",
       "aon                   0.002116     0.014900  1.000000    0.032882    0.026291   \n",
       "aug_vbc_3g            0.461574     0.613824  0.032882    1.000000    0.671006   \n",
       "jul_vbc_3g            0.641177     0.470327  0.026291    0.671006    1.000000   \n",
       "jun_vbc_3g            0.455831     0.405687  0.018445    0.513586    0.639515   \n",
       "churn_probability    -0.086186    -0.133349 -0.252043   -0.141132   -0.098509   \n",
       "\n",
       "                   jun_vbc_3g  churn_probability  \n",
       "id                   0.005137          -0.002174  \n",
       "arpu_6               0.200876           0.003973  \n",
       "arpu_7               0.156479          -0.143778  \n",
       "arpu_8               0.148420          -0.330570  \n",
       "onnet_mou_6         -0.018910           0.055241  \n",
       "...                       ...                ...  \n",
       "aon                  0.018445          -0.252043  \n",
       "aug_vbc_3g           0.513586          -0.141132  \n",
       "jul_vbc_3g           0.639515          -0.098509  \n",
       "jun_vbc_3g           1.000000          -0.065323  \n",
       "churn_probability   -0.065323           1.000000  \n",
       "\n",
       "[96 rows x 96 columns]"
      ]
     },
     "execution_count": 44,
     "metadata": {},
     "output_type": "execute_result"
    }
   ],
   "source": [
    "telecom_df.corr()"
   ]
  },
  {
   "cell_type": "code",
   "execution_count": 45,
   "id": "85dbe075",
   "metadata": {},
   "outputs": [
    {
     "data": {
      "text/plain": [
       "<AxesSubplot:>"
      ]
     },
     "execution_count": 45,
     "metadata": {},
     "output_type": "execute_result"
    },
    {
     "data": {
      "image/png": "[encoded data removed]",
      "text/plain": [
       "<Figure size 3600x2160 with 2 Axes>"
      ]
     },
     "metadata": {
      "needs_background": "light"
     },
     "output_type": "display_data"
    }
   ],
   "source": [
    "# Let's see the correlation matrix \n",
    "plt.figure(figsize = (50,30))\n",
    "sns.heatmap(telecom_df.corr(),annot = False)"
   ]
  },
  {
   "cell_type": "code",
   "execution_count": 46,
   "id": "51d7ee9f",
   "metadata": {},
   "outputs": [
    {
     "data": {
      "text/plain": [
       "Index(['id', 'arpu_6', 'arpu_7', 'arpu_8', 'onnet_mou_6', 'onnet_mou_7',\n",
       "       'onnet_mou_8', 'offnet_mou_6', 'offnet_mou_7', 'offnet_mou_8',\n",
       "       'roam_ic_mou_6', 'roam_ic_mou_7', 'roam_ic_mou_8', 'roam_og_mou_6',\n",
       "       'roam_og_mou_7', 'roam_og_mou_8', 'loc_og_t2t_mou_6',\n",
       "       'loc_og_t2t_mou_7', 'loc_og_t2t_mou_8', 'loc_og_t2m_mou_6',\n",
       "       'loc_og_t2m_mou_7', 'loc_og_t2m_mou_8', 'loc_og_t2f_mou_6',\n",
       "       'loc_og_t2f_mou_7', 'loc_og_t2f_mou_8', 'loc_og_t2c_mou_6',\n",
       "       'loc_og_t2c_mou_7', 'loc_og_t2c_mou_8', 'loc_og_mou_6', 'loc_og_mou_7',\n",
       "       'loc_og_mou_8', 'std_og_t2t_mou_6', 'std_og_t2t_mou_7',\n",
       "       'std_og_t2t_mou_8', 'std_og_t2m_mou_6', 'std_og_t2m_mou_7',\n",
       "       'std_og_t2m_mou_8', 'std_og_t2f_mou_6', 'std_og_t2f_mou_7',\n",
       "       'std_og_t2f_mou_8', 'std_og_mou_6', 'std_og_mou_7', 'std_og_mou_8',\n",
       "       'spl_og_mou_6', 'spl_og_mou_7', 'spl_og_mou_8', 'total_og_mou_6',\n",
       "       'total_og_mou_7', 'total_og_mou_8', 'loc_ic_t2t_mou_6',\n",
       "       'loc_ic_t2t_mou_7', 'loc_ic_t2t_mou_8', 'loc_ic_t2m_mou_6',\n",
       "       'loc_ic_t2m_mou_7', 'loc_ic_t2m_mou_8', 'loc_ic_t2f_mou_6',\n",
       "       'loc_ic_t2f_mou_7', 'loc_ic_t2f_mou_8', 'loc_ic_mou_6', 'loc_ic_mou_7',\n",
       "       'loc_ic_mou_8', 'std_ic_t2t_mou_6', 'std_ic_t2t_mou_7',\n",
       "       'std_ic_t2t_mou_8', 'std_ic_t2m_mou_6', 'std_ic_t2m_mou_7',\n",
       "       'std_ic_t2m_mou_8', 'std_ic_t2f_mou_6', 'std_ic_t2f_mou_7',\n",
       "       'std_ic_t2f_mou_8', 'std_ic_mou_6', 'std_ic_mou_7', 'std_ic_mou_8',\n",
       "       'total_ic_mou_6', 'total_ic_mou_7', 'total_ic_mou_8', 'isd_ic_mou_6',\n",
       "       'isd_ic_mou_7', 'isd_ic_mou_8', 'ic_others_6', 'ic_others_7',\n",
       "       'ic_others_8', 'total_rech_amt_6', 'total_rech_amt_7',\n",
       "       'total_rech_amt_8', 'vol_2g_mb_6', 'vol_2g_mb_7', 'vol_2g_mb_8',\n",
       "       'vol_3g_mb_6', 'vol_3g_mb_7', 'vol_3g_mb_8', 'aon', 'aug_vbc_3g',\n",
       "       'jul_vbc_3g', 'jun_vbc_3g', 'churn_probability'],\n",
       "      dtype='object')"
      ]
     },
     "execution_count": 46,
     "metadata": {},
     "output_type": "execute_result"
    }
   ],
   "source": [
    "telecom_df.columns"
   ]
  },
  {
   "cell_type": "markdown",
   "id": "cb4428cb",
   "metadata": {},
   "source": [
    "### Let's build model now, we will build following three models: \n",
    "* PCA followed by Linear Regression\n",
    "* Random Forest\n",
    "* PCA followed by Random Forest\n",
    "\n",
    "Lets start with spliting the train data into Train and Test data"
   ]
  },
  {
   "cell_type": "code",
   "execution_count": 47,
   "id": "4856ef73",
   "metadata": {},
   "outputs": [],
   "source": [
    "# Splitting the data into train and test\n",
    "y = telecom_df.pop('churn_probability')\n",
    "X = telecom_df\n",
    "\n",
    "X_train, X_test, y_train, y_test = train_test_split(X,y, train_size=0.7,test_size=0.3,random_state=100)\n",
    "\n",
    "ID_X_train = X_train.pop('id')\n",
    "ID_X_test = X_test.pop('id')"
   ]
  },
  {
   "cell_type": "code",
   "execution_count": 48,
   "id": "505352f3",
   "metadata": {},
   "outputs": [
    {
     "data": {
      "text/plain": [
       "(88013, 94)"
      ]
     },
     "execution_count": 48,
     "metadata": {},
     "output_type": "execute_result"
    }
   ],
   "source": [
    "X_train.shape"
   ]
  },
  {
   "cell_type": "code",
   "execution_count": 49,
   "id": "4b68be8f",
   "metadata": {},
   "outputs": [
    {
     "data": {
      "text/plain": [
       "(88013,)"
      ]
     },
     "execution_count": 49,
     "metadata": {},
     "output_type": "execute_result"
    }
   ],
   "source": [
    "ID_X_train.shape"
   ]
  },
  {
   "cell_type": "markdown",
   "id": "5d81d01d",
   "metadata": {},
   "source": [
    "### Scaling\n",
    "* Before PCA is applied, we need to scale the features"
   ]
  },
  {
   "cell_type": "code",
   "execution_count": 50,
   "id": "9e265537",
   "metadata": {},
   "outputs": [],
   "source": [
    "scaler = StandardScaler()"
   ]
  },
  {
   "cell_type": "code",
   "execution_count": 51,
   "id": "92472ade",
   "metadata": {},
   "outputs": [],
   "source": [
    "X_train_scaled = X_train.copy()\n",
    "X_train_scaled = scaler.fit_transform(X_train_scaled)"
   ]
  },
  {
   "cell_type": "markdown",
   "id": "bc08dd02",
   "metadata": {},
   "source": [
    "#### Apply PCA\n",
    "We have multiple columns which are co-related, PCA will help in following:\n",
    "* Dimentionality reducing, hence model generation would be fast.\n",
    "* Reduce correlation."
   ]
  },
  {
   "cell_type": "code",
   "execution_count": 52,
   "id": "15dfbf48",
   "metadata": {},
   "outputs": [],
   "source": [
    "pca = PCA(random_state=42)"
   ]
  },
  {
   "cell_type": "code",
   "execution_count": 53,
   "id": "5183141e",
   "metadata": {},
   "outputs": [
    {
     "data": {
      "text/plain": [
       "PCA(random_state=42)"
      ]
     },
     "execution_count": 53,
     "metadata": {},
     "output_type": "execute_result"
    }
   ],
   "source": [
    "pca.fit(X_train_scaled)"
   ]
  },
  {
   "cell_type": "code",
   "execution_count": 54,
   "id": "d9a4f2c1",
   "metadata": {},
   "outputs": [
    {
     "data": {
      "text/plain": [
       "array([[ 1.63043652e-01,  1.87117089e-01,  1.75231783e-01, ...,\n",
       "         4.37048109e-02,  4.24234353e-02,  3.64959172e-02],\n",
       "       [-8.15611402e-02, -8.67370303e-02, -5.03738995e-02, ...,\n",
       "         4.13500212e-02,  4.12333960e-02,  4.01631076e-02],\n",
       "       [-2.67603912e-02, -2.66944635e-02, -2.54916427e-02, ...,\n",
       "        -1.01759579e-02, -7.89305477e-03, -8.80097740e-03],\n",
       "       ...,\n",
       "       [ 7.96542737e-08,  1.14630969e-07, -1.79782557e-08, ...,\n",
       "         2.49817884e-07,  2.17429200e-07,  1.04546463e-07],\n",
       "       [-3.02768750e-07, -2.42010717e-07,  1.30093956e-07, ...,\n",
       "        -7.26960017e-08,  6.02158079e-08,  7.64117664e-08],\n",
       "       [-7.96020982e-08, -5.77805162e-09,  8.29243627e-08, ...,\n",
       "         1.26267986e-08,  3.50148647e-08, -7.99281506e-08]])"
      ]
     },
     "execution_count": 54,
     "metadata": {},
     "output_type": "execute_result"
    }
   ],
   "source": [
    "pca.components_"
   ]
  },
  {
   "cell_type": "code",
   "execution_count": 55,
   "id": "f9e12c2b",
   "metadata": {},
   "outputs": [
    {
     "data": {
      "text/plain": [
       "array([1.58190154e-01, 9.45791280e-02, 5.53243570e-02, 4.57479271e-02,\n",
       "       3.99203038e-02, 3.60724379e-02, 3.54565016e-02, 3.30054995e-02,\n",
       "       3.11176378e-02, 2.85088938e-02, 2.83247119e-02, 2.57850734e-02,\n",
       "       2.18332963e-02, 2.09327723e-02, 2.00596940e-02, 1.87206735e-02,\n",
       "       1.81277486e-02, 1.67831431e-02, 1.49768917e-02, 1.44609892e-02,\n",
       "       1.35202384e-02, 1.14880388e-02, 1.11420256e-02, 1.07792177e-02,\n",
       "       1.05786998e-02, 9.87218656e-03, 9.52144609e-03, 9.12726684e-03,\n",
       "       8.70715945e-03, 7.97539263e-03, 7.65830030e-03, 7.42494717e-03,\n",
       "       6.61529839e-03, 6.36628279e-03, 6.20406532e-03, 5.91722527e-03,\n",
       "       5.39799665e-03, 5.28454206e-03, 5.14320165e-03, 5.00843141e-03,\n",
       "       4.64112960e-03, 4.52646740e-03, 4.18720010e-03, 3.83444594e-03,\n",
       "       3.75773589e-03, 3.69670635e-03, 3.62646849e-03, 3.54782164e-03,\n",
       "       3.47001873e-03, 3.38134538e-03, 3.31346178e-03, 3.08084697e-03,\n",
       "       3.02660422e-03, 2.67677873e-03, 2.66677753e-03, 2.40111443e-03,\n",
       "       2.35649418e-03, 2.33990223e-03, 2.21439539e-03, 2.09624567e-03,\n",
       "       1.91194539e-03, 1.88368152e-03, 1.81528781e-03, 1.76819366e-03,\n",
       "       1.65613701e-03, 1.36025504e-03, 1.22030459e-03, 5.87982418e-04,\n",
       "       3.75600268e-04, 2.85674194e-04, 2.60225571e-04, 1.45375967e-04,\n",
       "       7.70739057e-05, 4.32702149e-05, 4.19663955e-05, 3.84674990e-05,\n",
       "       1.92985275e-05, 3.05247654e-06, 1.98994295e-06, 1.29755056e-06,\n",
       "       7.15970991e-07, 4.45523946e-07, 2.68296219e-10, 1.19494374e-10,\n",
       "       9.81719282e-11, 1.27415045e-11, 7.74901775e-12, 6.47876352e-12,\n",
       "       3.60590455e-12, 2.85198469e-12, 2.75731534e-12, 7.76897413e-13,\n",
       "       5.05400195e-13, 4.31672944e-13])"
      ]
     },
     "execution_count": 55,
     "metadata": {},
     "output_type": "execute_result"
    }
   ],
   "source": [
    "pca.explained_variance_ratio_"
   ]
  },
  {
   "cell_type": "code",
   "execution_count": 56,
   "id": "3d535f40",
   "metadata": {},
   "outputs": [],
   "source": [
    "var_cumu = np.cumsum(pca.explained_variance_ratio_)"
   ]
  },
  {
   "cell_type": "code",
   "execution_count": 57,
   "id": "c8ff565f",
   "metadata": {},
   "outputs": [
    {
     "data": {
      "image/png": "[encoded data removed]",
      "text/plain": [
       "<Figure size 720x576 with 1 Axes>"
      ]
     },
     "metadata": {
      "needs_background": "light"
     },
     "output_type": "display_data"
    }
   ],
   "source": [
    "fig = plt.figure(figsize=[10,8])\n",
    "plt.vlines(x=47, ymax=1, ymin=0, colors=\"r\", linestyles=\"--\")\n",
    "plt.hlines(y=0.95, xmax=60, xmin=0, colors=\"g\", linestyles=\"--\")\n",
    "plt.plot(var_cumu)\n",
    "plt.ylabel(\"Cumulative variance explained\")\n",
    "plt.show()"
   ]
  },
  {
   "cell_type": "code",
   "execution_count": 58,
   "id": "c1860fa4",
   "metadata": {},
   "outputs": [
    {
     "data": {
      "text/plain": [
       "(88013, 47)"
      ]
     },
     "execution_count": 58,
     "metadata": {},
     "output_type": "execute_result"
    }
   ],
   "source": [
    "pca_final = IncrementalPCA(n_components=47)\n",
    "df_train_pca = pca_final.fit_transform(X_train_scaled)\n",
    "df_train_pca.shape"
   ]
  },
  {
   "cell_type": "code",
   "execution_count": 59,
   "id": "6826ee63",
   "metadata": {},
   "outputs": [
    {
     "data": {
      "text/plain": [
       "(47, 47)"
      ]
     },
     "execution_count": 59,
     "metadata": {},
     "output_type": "execute_result"
    }
   ],
   "source": [
    "corrmat = np.corrcoef(df_train_pca.transpose())\n",
    "corrmat.shape"
   ]
  },
  {
   "cell_type": "code",
   "execution_count": 60,
   "id": "9f33807c",
   "metadata": {},
   "outputs": [
    {
     "data": {
      "text/plain": [
       "<AxesSubplot:>"
      ]
     },
     "execution_count": 60,
     "metadata": {},
     "output_type": "execute_result"
    },
    {
     "data": {
      "image/png": "[encoded data removed]",
      "text/plain": [
       "<Figure size 720x720 with 2 Axes>"
      ]
     },
     "metadata": {
      "needs_background": "light"
     },
     "output_type": "display_data"
    }
   ],
   "source": [
    "plt.figure(figsize=[10,10])\n",
    "sns.heatmap(corrmat, annot=False)"
   ]
  },
  {
   "cell_type": "code",
   "execution_count": 61,
   "id": "5cb194ad",
   "metadata": {},
   "outputs": [
    {
     "data": {
      "text/plain": [
       "(37721, 47)"
      ]
     },
     "execution_count": 61,
     "metadata": {},
     "output_type": "execute_result"
    }
   ],
   "source": [
    "X_test_scaled = X_test.copy()\n",
    "X_test_scaled = scaler.transform(X_test_scaled)\n",
    "\n",
    "df_test_pca = pca_final.transform(X_test_scaled)\n",
    "df_test_pca.shape"
   ]
  },
  {
   "cell_type": "markdown",
   "id": "b0b97770",
   "metadata": {},
   "source": [
    "## Apply Logistic Regression on PCA Data"
   ]
  },
  {
   "cell_type": "code",
   "execution_count": 62,
   "id": "97a05b68",
   "metadata": {},
   "outputs": [],
   "source": [
    "logistic_pca = LogisticRegression()\n",
    "model_pca = logistic_pca.fit(df_train_pca, y_train)"
   ]
  },
  {
   "cell_type": "code",
   "execution_count": 63,
   "id": "95fa9406",
   "metadata": {},
   "outputs": [
    {
     "data": {
      "text/plain": [
       "(88013, 47)"
      ]
     },
     "execution_count": 63,
     "metadata": {},
     "output_type": "execute_result"
    }
   ],
   "source": [
    "df_train_pca.shape"
   ]
  },
  {
   "cell_type": "code",
   "execution_count": 64,
   "id": "34776695",
   "metadata": {},
   "outputs": [],
   "source": [
    "pred_probs_train = model_pca.predict_proba(df_train_pca)"
   ]
  },
  {
   "cell_type": "code",
   "execution_count": 65,
   "id": "9c53d965",
   "metadata": {},
   "outputs": [
    {
     "data": {
      "text/plain": [
       "(88013, 2)"
      ]
     },
     "execution_count": 65,
     "metadata": {},
     "output_type": "execute_result"
    }
   ],
   "source": [
    "pred_probs_train.shape"
   ]
  },
  {
   "cell_type": "code",
   "execution_count": 66,
   "id": "f333ada0",
   "metadata": {},
   "outputs": [
    {
     "data": {
      "text/plain": [
       "(88013,)"
      ]
     },
     "execution_count": 66,
     "metadata": {},
     "output_type": "execute_result"
    }
   ],
   "source": [
    "ID_X_train.shape"
   ]
  },
  {
   "cell_type": "code",
   "execution_count": 67,
   "id": "f0c8d730",
   "metadata": {},
   "outputs": [
    {
     "data": {
      "text/plain": [
       "(88013,)"
      ]
     },
     "execution_count": 67,
     "metadata": {},
     "output_type": "execute_result"
    }
   ],
   "source": [
    "pred_probs_train[:,1].shape"
   ]
  },
  {
   "cell_type": "code",
   "execution_count": 68,
   "id": "2c8f1f7d",
   "metadata": {},
   "outputs": [
    {
     "data": {
      "text/html": [
       "<div>\n",
       "<style scoped>\n",
       "    .dataframe tbody tr th:only-of-type {\n",
       "        vertical-align: middle;\n",
       "    }\n",
       "\n",
       "    .dataframe tbody tr th {\n",
       "        vertical-align: top;\n",
       "    }\n",
       "\n",
       "    .dataframe thead th {\n",
       "        text-align: right;\n",
       "    }\n",
       "</style>\n",
       "<table border=\"1\" class=\"dataframe\">\n",
       "  <thead>\n",
       "    <tr style=\"text-align: right;\">\n",
       "      <th></th>\n",
       "      <th>id</th>\n",
       "      <th>churn_probability</th>\n",
       "    </tr>\n",
       "  </thead>\n",
       "  <tbody>\n",
       "    <tr>\n",
       "      <th>0</th>\n",
       "      <td>27643</td>\n",
       "      <td>0.801744</td>\n",
       "    </tr>\n",
       "    <tr>\n",
       "      <th>1</th>\n",
       "      <td>27379</td>\n",
       "      <td>0.764922</td>\n",
       "    </tr>\n",
       "    <tr>\n",
       "      <th>2</th>\n",
       "      <td>65222</td>\n",
       "      <td>0.242953</td>\n",
       "    </tr>\n",
       "    <tr>\n",
       "      <th>3</th>\n",
       "      <td>63390</td>\n",
       "      <td>0.696446</td>\n",
       "    </tr>\n",
       "    <tr>\n",
       "      <th>4</th>\n",
       "      <td>60548</td>\n",
       "      <td>0.658652</td>\n",
       "    </tr>\n",
       "  </tbody>\n",
       "</table>\n",
       "</div>"
      ],
      "text/plain": [
       "      id  churn_probability\n",
       "0  27643           0.801744\n",
       "1  27379           0.764922\n",
       "2  65222           0.242953\n",
       "3  63390           0.696446\n",
       "4  60548           0.658652"
      ]
     },
     "execution_count": 68,
     "metadata": {},
     "output_type": "execute_result"
    }
   ],
   "source": [
    "df_train_probs = pd.DataFrame(pred_probs_train[:,1], columns = ['churn_probability'])\n",
    "train_result = pd.concat([ID_X_train.reset_index(drop=True), df_train_probs.reset_index(drop=True)], axis=1)\n",
    "train_result.head()"
   ]
  },
  {
   "cell_type": "code",
   "execution_count": 69,
   "id": "bd6dcfad",
   "metadata": {},
   "outputs": [
    {
     "data": {
      "text/plain": [
       "(88013, 2)"
      ]
     },
     "execution_count": 69,
     "metadata": {},
     "output_type": "execute_result"
    }
   ],
   "source": [
    "train_result.shape"
   ]
  },
  {
   "cell_type": "code",
   "execution_count": 70,
   "id": "325c588b",
   "metadata": {},
   "outputs": [
    {
     "data": {
      "text/html": [
       "<div>\n",
       "<style scoped>\n",
       "    .dataframe tbody tr th:only-of-type {\n",
       "        vertical-align: middle;\n",
       "    }\n",
       "\n",
       "    .dataframe tbody tr th {\n",
       "        vertical-align: top;\n",
       "    }\n",
       "\n",
       "    .dataframe thead th {\n",
       "        text-align: right;\n",
       "    }\n",
       "</style>\n",
       "<table border=\"1\" class=\"dataframe\">\n",
       "  <thead>\n",
       "    <tr style=\"text-align: right;\">\n",
       "      <th></th>\n",
       "      <th>id</th>\n",
       "      <th>churn_probability</th>\n",
       "      <th>0.0</th>\n",
       "      <th>0.1</th>\n",
       "      <th>0.2</th>\n",
       "      <th>0.3</th>\n",
       "      <th>0.4</th>\n",
       "      <th>0.5</th>\n",
       "      <th>0.6</th>\n",
       "      <th>0.7</th>\n",
       "      <th>0.8</th>\n",
       "      <th>0.9</th>\n",
       "    </tr>\n",
       "  </thead>\n",
       "  <tbody>\n",
       "    <tr>\n",
       "      <th>0</th>\n",
       "      <td>27643</td>\n",
       "      <td>0.801744</td>\n",
       "      <td>1</td>\n",
       "      <td>1</td>\n",
       "      <td>1</td>\n",
       "      <td>1</td>\n",
       "      <td>1</td>\n",
       "      <td>1</td>\n",
       "      <td>1</td>\n",
       "      <td>1</td>\n",
       "      <td>1</td>\n",
       "      <td>0</td>\n",
       "    </tr>\n",
       "    <tr>\n",
       "      <th>1</th>\n",
       "      <td>27379</td>\n",
       "      <td>0.764922</td>\n",
       "      <td>1</td>\n",
       "      <td>1</td>\n",
       "      <td>1</td>\n",
       "      <td>1</td>\n",
       "      <td>1</td>\n",
       "      <td>1</td>\n",
       "      <td>1</td>\n",
       "      <td>1</td>\n",
       "      <td>0</td>\n",
       "      <td>0</td>\n",
       "    </tr>\n",
       "    <tr>\n",
       "      <th>2</th>\n",
       "      <td>65222</td>\n",
       "      <td>0.242953</td>\n",
       "      <td>1</td>\n",
       "      <td>1</td>\n",
       "      <td>1</td>\n",
       "      <td>0</td>\n",
       "      <td>0</td>\n",
       "      <td>0</td>\n",
       "      <td>0</td>\n",
       "      <td>0</td>\n",
       "      <td>0</td>\n",
       "      <td>0</td>\n",
       "    </tr>\n",
       "    <tr>\n",
       "      <th>3</th>\n",
       "      <td>63390</td>\n",
       "      <td>0.696446</td>\n",
       "      <td>1</td>\n",
       "      <td>1</td>\n",
       "      <td>1</td>\n",
       "      <td>1</td>\n",
       "      <td>1</td>\n",
       "      <td>1</td>\n",
       "      <td>1</td>\n",
       "      <td>0</td>\n",
       "      <td>0</td>\n",
       "      <td>0</td>\n",
       "    </tr>\n",
       "    <tr>\n",
       "      <th>4</th>\n",
       "      <td>60548</td>\n",
       "      <td>0.658652</td>\n",
       "      <td>1</td>\n",
       "      <td>1</td>\n",
       "      <td>1</td>\n",
       "      <td>1</td>\n",
       "      <td>1</td>\n",
       "      <td>1</td>\n",
       "      <td>1</td>\n",
       "      <td>0</td>\n",
       "      <td>0</td>\n",
       "      <td>0</td>\n",
       "    </tr>\n",
       "  </tbody>\n",
       "</table>\n",
       "</div>"
      ],
      "text/plain": [
       "      id  churn_probability  0.0  0.1  0.2  0.3  0.4  0.5  0.6  0.7  0.8  0.9\n",
       "0  27643           0.801744    1    1    1    1    1    1    1    1    1    0\n",
       "1  27379           0.764922    1    1    1    1    1    1    1    1    0    0\n",
       "2  65222           0.242953    1    1    1    0    0    0    0    0    0    0\n",
       "3  63390           0.696446    1    1    1    1    1    1    1    0    0    0\n",
       "4  60548           0.658652    1    1    1    1    1    1    1    0    0    0"
      ]
     },
     "execution_count": 70,
     "metadata": {},
     "output_type": "execute_result"
    }
   ],
   "source": [
    "numbers = [float(x)/10 for x in range(10)]\n",
    "for i in numbers:\n",
    "    train_result[i]= train_result['churn_probability'].map(lambda x: 1 if x > i else 0)\n",
    "train_result.head()"
   ]
  },
  {
   "cell_type": "code",
   "execution_count": 71,
   "id": "4bf43452",
   "metadata": {},
   "outputs": [
    {
     "name": "stdout",
     "output_type": "stream",
     "text": [
      "     prob  accuracy     sensi     speci\n",
      "0.0   0.0  0.500801  1.000000  0.000000\n",
      "0.1   0.1  0.646439  0.976949  0.314867\n",
      "0.2   0.2  0.697624  0.957597  0.436817\n",
      "0.3   0.3  0.740004  0.935817  0.543563\n",
      "0.4   0.4  0.775215  0.908683  0.641319\n",
      "0.5   0.5  0.797973  0.860403  0.735342\n",
      "0.6   0.6  0.807017  0.787803  0.826293\n",
      "0.7   0.7  0.767478  0.629172  0.906227\n",
      "0.8   0.8  0.629157  0.298047  0.961330\n",
      "0.9   0.9  0.536614  0.086258  0.988415\n"
     ]
    }
   ],
   "source": [
    "# Now let's calculate accuracy sensitivity and specificity for various probability cutoffs.\n",
    "cutoff_df = pd.DataFrame( columns = ['prob','accuracy','sensi','speci'])\n",
    "from sklearn.metrics import confusion_matrix\n",
    "\n",
    "# TP = confusion[1,1] # true positive \n",
    "# TN = confusion[0,0] # true negatives\n",
    "# FP = confusion[0,1] # false positives\n",
    "# FN = confusion[1,0] # false negatives\n",
    "\n",
    "num = [0.0,0.1,0.2,0.3,0.4,0.5,0.6,0.7,0.8,0.9]\n",
    "for i in num:\n",
    "    cm1 = metrics.confusion_matrix(y_train, train_result[i] )\n",
    "    total1=sum(sum(cm1))\n",
    "    accuracy = (cm1[0,0]+cm1[1,1])/total1\n",
    "    \n",
    "    speci = cm1[0,0]/(cm1[0,0]+cm1[0,1])\n",
    "    sensi = cm1[1,1]/(cm1[1,0]+cm1[1,1])\n",
    "    cutoff_df.loc[i] =[ i ,accuracy,sensi,speci]\n",
    "print(cutoff_df)"
   ]
  },
  {
   "cell_type": "code",
   "execution_count": 72,
   "id": "1818dafc",
   "metadata": {},
   "outputs": [
    {
     "data": {
      "text/plain": [
       "<Figure size 1080x720 with 0 Axes>"
      ]
     },
     "metadata": {},
     "output_type": "display_data"
    },
    {
     "data": {
      "image/png": "[encoded data removed]",
      "text/plain": [
       "<Figure size 432x288 with 1 Axes>"
      ]
     },
     "metadata": {
      "needs_background": "light"
     },
     "output_type": "display_data"
    }
   ],
   "source": [
    "# Let's plot accuracy sensitivity and specificity for various probabilities.\n",
    "fig = plt.figure(figsize=[15,10])\n",
    "cutoff_df.plot.line(x='prob', y=['accuracy','sensi','speci'])\n",
    "plt.vlines(x=0.58, ymax=1, ymin=0, colors=\"r\", linestyles=\"--\")\n",
    "plt.hlines(y=0.80, xmax=1, xmin=0, colors=\"b\", linestyles=\"--\")\n",
    "plt.show()"
   ]
  },
  {
   "cell_type": "markdown",
   "id": "30be5ddb",
   "metadata": {},
   "source": [
    "#### As per above graph, ideal threashold probability is 0.58"
   ]
  },
  {
   "cell_type": "code",
   "execution_count": 73,
   "id": "27ba64b8",
   "metadata": {},
   "outputs": [
    {
     "data": {
      "text/plain": [
       "'0.8698'"
      ]
     },
     "execution_count": 73,
     "metadata": {},
     "output_type": "execute_result"
    }
   ],
   "source": [
    "pred_probs_train = model_pca.predict_proba(df_train_pca)\n",
    "\"{:2.4}\".format(metrics.roc_auc_score(y_train, pred_probs_train[:,1]))"
   ]
  },
  {
   "cell_type": "code",
   "execution_count": 74,
   "id": "c35daa60",
   "metadata": {},
   "outputs": [
    {
     "data": {
      "text/plain": [
       "'0.8734'"
      ]
     },
     "execution_count": 74,
     "metadata": {},
     "output_type": "execute_result"
    }
   ],
   "source": [
    "pred_probs_test = model_pca.predict_proba(df_test_pca)\n",
    "\"{:2.4}\".format(metrics.roc_auc_score(y_test, pred_probs_test[:,1]))"
   ]
  },
  {
   "cell_type": "markdown",
   "id": "1a04140d",
   "metadata": {},
   "source": [
    "## Logsitic Regression on Final test.csv"
   ]
  },
  {
   "cell_type": "code",
   "execution_count": 75,
   "id": "366d8892",
   "metadata": {},
   "outputs": [],
   "source": [
    "test_csv = pd.read_csv(\"test.csv\")"
   ]
  },
  {
   "cell_type": "code",
   "execution_count": 76,
   "id": "5a573dbe",
   "metadata": {},
   "outputs": [
    {
     "data": {
      "text/plain": [
       "(30000, 171)"
      ]
     },
     "execution_count": 76,
     "metadata": {},
     "output_type": "execute_result"
    }
   ],
   "source": [
    "test_csv.shape"
   ]
  },
  {
   "cell_type": "code",
   "execution_count": 77,
   "id": "c52c3a0c",
   "metadata": {},
   "outputs": [
    {
     "data": {
      "text/plain": [
       "(30000, 95)"
      ]
     },
     "execution_count": 77,
     "metadata": {},
     "output_type": "execute_result"
    }
   ],
   "source": [
    "test_csv.drop(missing_col_list, axis=1, inplace=True)\n",
    "test_csv.drop(unique_col_list, axis=1, inplace=True)\n",
    "test_csv.shape"
   ]
  },
  {
   "cell_type": "code",
   "execution_count": 78,
   "id": "61677fd5",
   "metadata": {},
   "outputs": [
    {
     "data": {
      "text/plain": [
       "(30000, 94)"
      ]
     },
     "execution_count": 78,
     "metadata": {},
     "output_type": "execute_result"
    }
   ],
   "source": [
    "test_csv = fill_missing_values(test_csv)\n",
    "ID_test = test_csv.pop('id')\n",
    "test_csv.shape"
   ]
  },
  {
   "cell_type": "code",
   "execution_count": 79,
   "id": "028db5d9",
   "metadata": {},
   "outputs": [
    {
     "data": {
      "text/plain": [
       "(30000, 47)"
      ]
     },
     "execution_count": 79,
     "metadata": {},
     "output_type": "execute_result"
    }
   ],
   "source": [
    "test_csv_pca = pca_final.transform(test_csv)\n",
    "test_csv_pca.shape"
   ]
  },
  {
   "cell_type": "code",
   "execution_count": 80,
   "id": "002a2940",
   "metadata": {},
   "outputs": [],
   "source": [
    "pred_probs_test = model_pca.predict_proba(test_csv_pca)"
   ]
  },
  {
   "cell_type": "code",
   "execution_count": 81,
   "id": "08bc339c",
   "metadata": {},
   "outputs": [
    {
     "data": {
      "text/plain": [
       "(30000, 2)"
      ]
     },
     "execution_count": 81,
     "metadata": {},
     "output_type": "execute_result"
    }
   ],
   "source": [
    "pred_probs_test.shape"
   ]
  },
  {
   "cell_type": "code",
   "execution_count": 82,
   "id": "c171e854",
   "metadata": {},
   "outputs": [
    {
     "data": {
      "text/plain": [
       "array([[1.00000000e+000, 1.91281281e-305],\n",
       "       [1.00000000e+000, 0.00000000e+000],\n",
       "       [1.00000000e+000, 0.00000000e+000],\n",
       "       ...,\n",
       "       [1.00000000e+000, 1.25716134e-151],\n",
       "       [0.00000000e+000, 1.00000000e+000],\n",
       "       [1.00000000e+000, 0.00000000e+000]])"
      ]
     },
     "execution_count": 82,
     "metadata": {},
     "output_type": "execute_result"
    }
   ],
   "source": [
    "pred_probs_test"
   ]
  },
  {
   "cell_type": "code",
   "execution_count": 83,
   "id": "d85c45c0",
   "metadata": {},
   "outputs": [
    {
     "data": {
      "text/html": [
       "<div>\n",
       "<style scoped>\n",
       "    .dataframe tbody tr th:only-of-type {\n",
       "        vertical-align: middle;\n",
       "    }\n",
       "\n",
       "    .dataframe tbody tr th {\n",
       "        vertical-align: top;\n",
       "    }\n",
       "\n",
       "    .dataframe thead th {\n",
       "        text-align: right;\n",
       "    }\n",
       "</style>\n",
       "<table border=\"1\" class=\"dataframe\">\n",
       "  <thead>\n",
       "    <tr style=\"text-align: right;\">\n",
       "      <th></th>\n",
       "      <th>Churn probability</th>\n",
       "    </tr>\n",
       "  </thead>\n",
       "  <tbody>\n",
       "    <tr>\n",
       "      <th>0</th>\n",
       "      <td>1.912813e-305</td>\n",
       "    </tr>\n",
       "    <tr>\n",
       "      <th>1</th>\n",
       "      <td>0.000000e+00</td>\n",
       "    </tr>\n",
       "    <tr>\n",
       "      <th>2</th>\n",
       "      <td>0.000000e+00</td>\n",
       "    </tr>\n",
       "    <tr>\n",
       "      <th>3</th>\n",
       "      <td>0.000000e+00</td>\n",
       "    </tr>\n",
       "    <tr>\n",
       "      <th>4</th>\n",
       "      <td>0.000000e+00</td>\n",
       "    </tr>\n",
       "  </tbody>\n",
       "</table>\n",
       "</div>"
      ],
      "text/plain": [
       "   Churn probability\n",
       "0      1.912813e-305\n",
       "1       0.000000e+00\n",
       "2       0.000000e+00\n",
       "3       0.000000e+00\n",
       "4       0.000000e+00"
      ]
     },
     "execution_count": 83,
     "metadata": {},
     "output_type": "execute_result"
    }
   ],
   "source": [
    "df_test_final = pd.DataFrame(pred_probs_test[:,1], columns = ['Churn probability'])\n",
    "df_test_final.head()"
   ]
  },
  {
   "cell_type": "code",
   "execution_count": 84,
   "id": "2fa32fe6",
   "metadata": {},
   "outputs": [
    {
     "data": {
      "text/plain": [
       "0    69999\n",
       "1    70000\n",
       "2    70001\n",
       "3    70002\n",
       "4    70003\n",
       "Name: id, dtype: int64"
      ]
     },
     "execution_count": 84,
     "metadata": {},
     "output_type": "execute_result"
    }
   ],
   "source": [
    "ID_test.head()"
   ]
  },
  {
   "cell_type": "code",
   "execution_count": 85,
   "id": "46d289e5",
   "metadata": {},
   "outputs": [
    {
     "data": {
      "text/html": [
       "<div>\n",
       "<style scoped>\n",
       "    .dataframe tbody tr th:only-of-type {\n",
       "        vertical-align: middle;\n",
       "    }\n",
       "\n",
       "    .dataframe tbody tr th {\n",
       "        vertical-align: top;\n",
       "    }\n",
       "\n",
       "    .dataframe thead th {\n",
       "        text-align: right;\n",
       "    }\n",
       "</style>\n",
       "<table border=\"1\" class=\"dataframe\">\n",
       "  <thead>\n",
       "    <tr style=\"text-align: right;\">\n",
       "      <th></th>\n",
       "      <th>Id</th>\n",
       "      <th>churn_probability</th>\n",
       "    </tr>\n",
       "  </thead>\n",
       "  <tbody>\n",
       "    <tr>\n",
       "      <th>0</th>\n",
       "      <td>69999</td>\n",
       "      <td>0</td>\n",
       "    </tr>\n",
       "    <tr>\n",
       "      <th>1</th>\n",
       "      <td>70000</td>\n",
       "      <td>0</td>\n",
       "    </tr>\n",
       "    <tr>\n",
       "      <th>2</th>\n",
       "      <td>70001</td>\n",
       "      <td>0</td>\n",
       "    </tr>\n",
       "    <tr>\n",
       "      <th>3</th>\n",
       "      <td>70002</td>\n",
       "      <td>0</td>\n",
       "    </tr>\n",
       "    <tr>\n",
       "      <th>4</th>\n",
       "      <td>70003</td>\n",
       "      <td>0</td>\n",
       "    </tr>\n",
       "  </tbody>\n",
       "</table>\n",
       "</div>"
      ],
      "text/plain": [
       "      Id  churn_probability\n",
       "0  69999                  0\n",
       "1  70000                  0\n",
       "2  70001                  0\n",
       "3  70002                  0\n",
       "4  70003                  0"
      ]
     },
     "execution_count": 85,
     "metadata": {},
     "output_type": "execute_result"
    }
   ],
   "source": [
    "result = pd.concat([ID_test.reset_index(drop=True), df_test_final.reset_index(drop=True)], axis=1)\n",
    "result = result.rename(columns={'id': 'Id', 'Churn probability':'churn_probability'})\n",
    "result['churn_probability'] = result['churn_probability'].map(lambda x: 1 if x > 0.5 else 0)\n",
    "result.head()"
   ]
  },
  {
   "cell_type": "code",
   "execution_count": 86,
   "id": "6fcccba3",
   "metadata": {},
   "outputs": [],
   "source": [
    "result.to_csv(\"solution_pca_log.csv\", index=False)"
   ]
  },
  {
   "cell_type": "markdown",
   "id": "8e617f81",
   "metadata": {},
   "source": [
    "## Apply RandomForest\n",
    "* No PCA\n",
    "* Apply Grid-search to find best hyper-paramters"
   ]
  },
  {
   "cell_type": "code",
   "execution_count": 87,
   "id": "6663080f",
   "metadata": {},
   "outputs": [],
   "source": [
    "number_of_jobs = -3\n",
    "rf = RandomForestClassifier(random_state=42, n_jobs=number_of_jobs)"
   ]
  },
  {
   "cell_type": "code",
   "execution_count": 88,
   "id": "c8fc6282",
   "metadata": {},
   "outputs": [],
   "source": [
    "params = {\n",
    "    'max_depth': [3, 4, 5, 7, 9, 10, 12, 14, 15, 20],\n",
    "    'min_samples_leaf': [5, 10, 15, 20, 25, 50, 100],\n",
    "    'n_estimators': [5, 10, 15, 20, 25, 30, 35, 40]\n",
    "}"
   ]
  },
  {
   "cell_type": "code",
   "execution_count": 89,
   "id": "8a43ce9f",
   "metadata": {},
   "outputs": [],
   "source": [
    "grid_search = GridSearchCV(estimator=rf,\n",
    "                           param_grid=params,\n",
    "                           cv = 4,\n",
    "                           n_jobs=number_of_jobs, verbose=1, scoring=\"accuracy\")"
   ]
  },
  {
   "cell_type": "code",
   "execution_count": 90,
   "id": "d8e72a6e",
   "metadata": {},
   "outputs": [
    {
     "name": "stdout",
     "output_type": "stream",
     "text": [
      "Fitting 4 folds for each of 560 candidates, totalling 2240 fits\n",
      "Wall time: 28min 25s\n"
     ]
    },
    {
     "data": {
      "text/plain": [
       "GridSearchCV(cv=4, estimator=RandomForestClassifier(n_jobs=-3, random_state=42),\n",
       "             n_jobs=-3,\n",
       "             param_grid={'max_depth': [3, 4, 5, 7, 9, 10, 12, 14, 15, 20],\n",
       "                         'min_samples_leaf': [5, 10, 15, 20, 25, 50, 100],\n",
       "                         'n_estimators': [5, 10, 15, 20, 25, 30, 35, 40]},\n",
       "             scoring='accuracy', verbose=1)"
      ]
     },
     "execution_count": 90,
     "metadata": {},
     "output_type": "execute_result"
    }
   ],
   "source": [
    "%%time\n",
    "grid_search.fit(X_train, y_train)"
   ]
  },
  {
   "cell_type": "code",
   "execution_count": 91,
   "id": "370977f8",
   "metadata": {},
   "outputs": [
    {
     "data": {
      "text/plain": [
       "0.9308284276904846"
      ]
     },
     "execution_count": 91,
     "metadata": {},
     "output_type": "execute_result"
    }
   ],
   "source": [
    "grid_search.best_score_"
   ]
  },
  {
   "cell_type": "code",
   "execution_count": 92,
   "id": "06b6ab8c",
   "metadata": {},
   "outputs": [
    {
     "data": {
      "text/plain": [
       "RandomForestClassifier(max_depth=20, min_samples_leaf=5, n_estimators=40,\n",
       "                       n_jobs=-3, random_state=42)"
      ]
     },
     "execution_count": 92,
     "metadata": {},
     "output_type": "execute_result"
    }
   ],
   "source": [
    "rf_best = grid_search.best_estimator_\n",
    "rf_best"
   ]
  },
  {
   "cell_type": "code",
   "execution_count": 93,
   "id": "87e45644",
   "metadata": {},
   "outputs": [
    {
     "data": {
      "image/png": "[encoded data removed]",
      "text/plain": [
       "<Figure size 432x288 with 1 Axes>"
      ]
     },
     "metadata": {
      "needs_background": "light"
     },
     "output_type": "display_data"
    }
   ],
   "source": [
    "plot_roc_curve(rf_best, X_train, y_train)\n",
    "plt.show()"
   ]
  },
  {
   "cell_type": "code",
   "execution_count": 94,
   "id": "2528a187",
   "metadata": {},
   "outputs": [],
   "source": [
    "# Util method to evaluate model\n",
    "def evaluate_model(dt_classifier):\n",
    "    '''\n",
    "    Util method to evaluate model\n",
    "    input: model object\n",
    "    output: print model metrics\n",
    "    return: None\n",
    "    '''\n",
    "    print(\"Train Accuracy :\", accuracy_score(y_train, dt_classifier.predict(X_train)))\n",
    "    print(\"Train Confusion Matrix:\")\n",
    "    print(confusion_matrix(y_train, dt_classifier.predict(X_train)))\n",
    "    print(\"-\"*50)\n",
    "    print(\"Test Accuracy :\", accuracy_score(y_test, dt_classifier.predict(X_test)))\n",
    "    print(\"Test Confusion Matrix:\")\n",
    "    print(confusion_matrix(y_test, dt_classifier.predict(X_test)))"
   ]
  },
  {
   "cell_type": "code",
   "execution_count": 95,
   "id": "17e2b846",
   "metadata": {},
   "outputs": [
    {
     "name": "stdout",
     "output_type": "stream",
     "text": [
      "Train Accuracy : 0.9717655346369286\n",
      "Train Confusion Matrix:\n",
      "[[42624  1312]\n",
      " [ 1173 42904]]\n",
      "--------------------------------------------------\n",
      "Test Accuracy : 0.9353410567058137\n",
      "Test Confusion Matrix:\n",
      "[[17770  1161]\n",
      " [ 1278 17512]]\n"
     ]
    }
   ],
   "source": [
    "evaluate_model(rf_best)"
   ]
  },
  {
   "cell_type": "code",
   "execution_count": 96,
   "id": "c5ab7b6a",
   "metadata": {},
   "outputs": [
    {
     "data": {
      "text/plain": [
       "(88013, 94)"
      ]
     },
     "execution_count": 96,
     "metadata": {},
     "output_type": "execute_result"
    }
   ],
   "source": [
    "X_train.shape"
   ]
  },
  {
   "cell_type": "code",
   "execution_count": 97,
   "id": "2b11fe2e",
   "metadata": {},
   "outputs": [
    {
     "data": {
      "text/plain": [
       "(30000, 94)"
      ]
     },
     "execution_count": 97,
     "metadata": {},
     "output_type": "execute_result"
    }
   ],
   "source": [
    "test_csv.shape"
   ]
  },
  {
   "cell_type": "code",
   "execution_count": 98,
   "id": "4a5001fc",
   "metadata": {},
   "outputs": [
    {
     "data": {
      "text/plain": [
       "(30000,)"
      ]
     },
     "execution_count": 98,
     "metadata": {},
     "output_type": "execute_result"
    }
   ],
   "source": [
    "test_final_predict = rf_best.predict(test_csv)\n",
    "test_final_predict.shape"
   ]
  },
  {
   "cell_type": "code",
   "execution_count": 99,
   "id": "4946aa72",
   "metadata": {},
   "outputs": [
    {
     "data": {
      "text/html": [
       "<div>\n",
       "<style scoped>\n",
       "    .dataframe tbody tr th:only-of-type {\n",
       "        vertical-align: middle;\n",
       "    }\n",
       "\n",
       "    .dataframe tbody tr th {\n",
       "        vertical-align: top;\n",
       "    }\n",
       "\n",
       "    .dataframe thead th {\n",
       "        text-align: right;\n",
       "    }\n",
       "</style>\n",
       "<table border=\"1\" class=\"dataframe\">\n",
       "  <thead>\n",
       "    <tr style=\"text-align: right;\">\n",
       "      <th></th>\n",
       "      <th>Churn probability</th>\n",
       "    </tr>\n",
       "  </thead>\n",
       "  <tbody>\n",
       "    <tr>\n",
       "      <th>0</th>\n",
       "      <td>0</td>\n",
       "    </tr>\n",
       "    <tr>\n",
       "      <th>1</th>\n",
       "      <td>0</td>\n",
       "    </tr>\n",
       "    <tr>\n",
       "      <th>2</th>\n",
       "      <td>1</td>\n",
       "    </tr>\n",
       "    <tr>\n",
       "      <th>3</th>\n",
       "      <td>0</td>\n",
       "    </tr>\n",
       "    <tr>\n",
       "      <th>4</th>\n",
       "      <td>0</td>\n",
       "    </tr>\n",
       "  </tbody>\n",
       "</table>\n",
       "</div>"
      ],
      "text/plain": [
       "   Churn probability\n",
       "0                  0\n",
       "1                  0\n",
       "2                  1\n",
       "3                  0\n",
       "4                  0"
      ]
     },
     "execution_count": 99,
     "metadata": {},
     "output_type": "execute_result"
    }
   ],
   "source": [
    "df_test_final = pd.DataFrame(test_final_predict, columns = ['Churn probability'])\n",
    "df_test_final.head()"
   ]
  },
  {
   "cell_type": "code",
   "execution_count": 100,
   "id": "793689a7",
   "metadata": {},
   "outputs": [
    {
     "data": {
      "text/html": [
       "<div>\n",
       "<style scoped>\n",
       "    .dataframe tbody tr th:only-of-type {\n",
       "        vertical-align: middle;\n",
       "    }\n",
       "\n",
       "    .dataframe tbody tr th {\n",
       "        vertical-align: top;\n",
       "    }\n",
       "\n",
       "    .dataframe thead th {\n",
       "        text-align: right;\n",
       "    }\n",
       "</style>\n",
       "<table border=\"1\" class=\"dataframe\">\n",
       "  <thead>\n",
       "    <tr style=\"text-align: right;\">\n",
       "      <th></th>\n",
       "      <th>Id</th>\n",
       "      <th>churn_probability</th>\n",
       "    </tr>\n",
       "  </thead>\n",
       "  <tbody>\n",
       "    <tr>\n",
       "      <th>0</th>\n",
       "      <td>69999</td>\n",
       "      <td>0</td>\n",
       "    </tr>\n",
       "    <tr>\n",
       "      <th>1</th>\n",
       "      <td>70000</td>\n",
       "      <td>0</td>\n",
       "    </tr>\n",
       "    <tr>\n",
       "      <th>2</th>\n",
       "      <td>70001</td>\n",
       "      <td>1</td>\n",
       "    </tr>\n",
       "    <tr>\n",
       "      <th>3</th>\n",
       "      <td>70002</td>\n",
       "      <td>0</td>\n",
       "    </tr>\n",
       "    <tr>\n",
       "      <th>4</th>\n",
       "      <td>70003</td>\n",
       "      <td>0</td>\n",
       "    </tr>\n",
       "  </tbody>\n",
       "</table>\n",
       "</div>"
      ],
      "text/plain": [
       "      Id  churn_probability\n",
       "0  69999                  0\n",
       "1  70000                  0\n",
       "2  70001                  1\n",
       "3  70002                  0\n",
       "4  70003                  0"
      ]
     },
     "execution_count": 100,
     "metadata": {},
     "output_type": "execute_result"
    }
   ],
   "source": [
    "result = pd.concat([ID_test.reset_index(drop=True), df_test_final.reset_index(drop=True)], axis=1)\n",
    "result = result.rename(columns={'id': 'Id', 'Churn probability':'churn_probability'})\n",
    "result.head()"
   ]
  },
  {
   "cell_type": "code",
   "execution_count": 101,
   "id": "cb9647ec",
   "metadata": {},
   "outputs": [],
   "source": [
    "result.to_csv(\"solution.csv\", index=False)"
   ]
  },
  {
   "cell_type": "markdown",
   "id": "17f741a6",
   "metadata": {},
   "source": [
    "## Apply Random Forest on PCA data\n",
    "* This is to test, if PCA followed by Random forest, will out-perform simple Random Forest or not\n",
    "* Apply grid-search to find best hyper-paramters"
   ]
  },
  {
   "cell_type": "code",
   "execution_count": 102,
   "id": "3d1119f6",
   "metadata": {},
   "outputs": [],
   "source": [
    "rf_pca = RandomForestClassifier(random_state=42, n_jobs=number_of_jobs)"
   ]
  },
  {
   "cell_type": "code",
   "execution_count": 103,
   "id": "7ffaca58",
   "metadata": {},
   "outputs": [],
   "source": [
    "grid_pca_rf = GridSearchCV(estimator=rf,\n",
    "                           param_grid=params,\n",
    "                           cv = 4,\n",
    "                           n_jobs=number_of_jobs, verbose=1, scoring=\"accuracy\")"
   ]
  },
  {
   "cell_type": "code",
   "execution_count": 104,
   "id": "19ef84a9",
   "metadata": {},
   "outputs": [
    {
     "name": "stdout",
     "output_type": "stream",
     "text": [
      "Fitting 4 folds for each of 560 candidates, totalling 2240 fits\n",
      "Wall time: 29min 32s\n"
     ]
    },
    {
     "data": {
      "text/plain": [
       "GridSearchCV(cv=4, estimator=RandomForestClassifier(n_jobs=-3, random_state=42),\n",
       "             n_jobs=-3,\n",
       "             param_grid={'max_depth': [3, 4, 5, 7, 9, 10, 12, 14, 15, 20],\n",
       "                         'min_samples_leaf': [5, 10, 15, 20, 25, 50, 100],\n",
       "                         'n_estimators': [5, 10, 15, 20, 25, 30, 35, 40]},\n",
       "             scoring='accuracy', verbose=1)"
      ]
     },
     "execution_count": 104,
     "metadata": {},
     "output_type": "execute_result"
    }
   ],
   "source": [
    "%%time\n",
    "grid_pca_rf.fit(df_train_pca, y_train)"
   ]
  },
  {
   "cell_type": "code",
   "execution_count": 105,
   "id": "c402ee55",
   "metadata": {},
   "outputs": [
    {
     "data": {
      "text/plain": [
       "0.886846296545819"
      ]
     },
     "execution_count": 105,
     "metadata": {},
     "output_type": "execute_result"
    }
   ],
   "source": [
    "grid_pca_rf.best_score_"
   ]
  },
  {
   "cell_type": "code",
   "execution_count": 106,
   "id": "b2f5a660",
   "metadata": {},
   "outputs": [
    {
     "data": {
      "text/plain": [
       "RandomForestClassifier(max_depth=20, min_samples_leaf=5, n_estimators=40,\n",
       "                       n_jobs=-3, random_state=42)"
      ]
     },
     "execution_count": 106,
     "metadata": {},
     "output_type": "execute_result"
    }
   ],
   "source": [
    "rf_best_pca = grid_pca_rf.best_estimator_\n",
    "rf_best_pca"
   ]
  },
  {
   "cell_type": "code",
   "execution_count": 107,
   "id": "8bfd9eb8",
   "metadata": {},
   "outputs": [
    {
     "data": {
      "image/png": "[encoded data removed]",
      "text/plain": [
       "<Figure size 432x288 with 1 Axes>"
      ]
     },
     "metadata": {
      "needs_background": "light"
     },
     "output_type": "display_data"
    }
   ],
   "source": [
    "plot_roc_curve(rf_best_pca, df_train_pca, y_train)\n",
    "plt.show()"
   ]
  },
  {
   "cell_type": "code",
   "execution_count": 108,
   "id": "ea1ce2e1",
   "metadata": {},
   "outputs": [],
   "source": [
    "# Util method to evaluate model with PCA data\n",
    "def evaluate_model_pca(dt_classifier):\n",
    "    '''\n",
    "    Util method to evaluate model with PCA data\n",
    "    input: model object\n",
    "    output: print model metrics\n",
    "    return: None\n",
    "    '''\n",
    "    print(\"Train Accuracy :\", accuracy_score(y_train, dt_classifier.predict(df_train_pca)))\n",
    "    print(\"Train Confusion Matrix:\")\n",
    "    print(confusion_matrix(y_train, dt_classifier.predict(df_train_pca)))\n",
    "    print(\"-\"*50)\n",
    "    print(\"Test Accuracy :\", accuracy_score(y_test, dt_classifier.predict(df_test_pca)))\n",
    "    print(\"Test Confusion Matrix:\")\n",
    "    print(confusion_matrix(y_test, dt_classifier.predict(df_test_pca)))"
   ]
  },
  {
   "cell_type": "code",
   "execution_count": 109,
   "id": "d8cb075e",
   "metadata": {},
   "outputs": [
    {
     "name": "stdout",
     "output_type": "stream",
     "text": [
      "Train Accuracy : 0.9650165316487337\n",
      "Train Confusion Matrix:\n",
      "[[41887  2049]\n",
      " [ 1030 43047]]\n",
      "--------------------------------------------------\n",
      "Test Accuracy : 0.8987036398822937\n",
      "Test Confusion Matrix:\n",
      "[[16749  2182]\n",
      " [ 1639 17151]]\n"
     ]
    }
   ],
   "source": [
    "evaluate_model_pca(rf_best_pca)"
   ]
  },
  {
   "cell_type": "markdown",
   "id": "26cf3e18",
   "metadata": {},
   "source": [
    "#### Model (PCA + Random Tree) is less than normal Random Tree, so no need to save solution.csv file"
   ]
  },
  {
   "cell_type": "code",
   "execution_count": null,
   "id": "fff1d196",
   "metadata": {},
   "outputs": [],
   "source": []
  },
  {
   "cell_type": "markdown",
   "id": "0ecb0eea",
   "metadata": {},
   "source": [
    "### Apply XGBoost on non-PCA data\n",
    "\n",
    "##### Wanted to run XGboost with GridSearch for hyper-parameter tuning, but its taking too much time to converge, so those readings and steps are not part of this notebook."
   ]
  },
  {
   "cell_type": "code",
   "execution_count": 110,
   "id": "f59e4add",
   "metadata": {},
   "outputs": [],
   "source": [
    "import xgboost as xgb"
   ]
  },
  {
   "cell_type": "code",
   "execution_count": 111,
   "id": "ccc437a4",
   "metadata": {},
   "outputs": [],
   "source": [
    "number_of_jobs = -3\n",
    "xgb_clf = xgb.XGBClassifier(max_depth=7, n_estimators=300, learning_rate=0.3,\n",
    "                            n_jobs=number_of_jobs, verbosity=1, gpu_id=0)"
   ]
  },
  {
   "cell_type": "code",
   "execution_count": 112,
   "id": "f94e9a59",
   "metadata": {},
   "outputs": [
    {
     "data": {
      "text/plain": [
       "XGBClassifier(base_score=0.5, booster='gbtree', callbacks=None,\n",
       "              colsample_bylevel=1, colsample_bynode=1, colsample_bytree=1,\n",
       "              early_stopping_rounds=None, enable_categorical=False,\n",
       "              eval_metric=None, gamma=0, gpu_id=0, grow_policy='depthwise',\n",
       "              importance_type=None, interaction_constraints='',\n",
       "              learning_rate=0.3, max_bin=256, max_cat_to_onehot=4,\n",
       "              max_delta_step=0, max_depth=7, max_leaves=0, min_child_weight=1,\n",
       "              missing=nan, monotone_constraints='()', n_estimators=300,\n",
       "              n_jobs=-3, num_parallel_tree=1, predictor='auto', random_state=0,\n",
       "              reg_alpha=0, reg_lambda=1, ...)"
      ]
     },
     "execution_count": 112,
     "metadata": {},
     "output_type": "execute_result"
    }
   ],
   "source": [
    "xgb_clf.fit(X_train, y_train)"
   ]
  },
  {
   "cell_type": "code",
   "execution_count": 113,
   "id": "be96f40c",
   "metadata": {},
   "outputs": [
    {
     "name": "stdout",
     "output_type": "stream",
     "text": [
      "Train Accuracy : 0.9997273130105779\n",
      "Train Confusion Matrix:\n",
      "[[43912    24]\n",
      " [    0 44077]]\n",
      "--------------------------------------------------\n",
      "Test Accuracy : 0.9603138835131624\n",
      "Test Confusion Matrix:\n",
      "[[18150   781]\n",
      " [  716 18074]]\n"
     ]
    }
   ],
   "source": [
    "evaluate_model(xgb_clf)"
   ]
  },
  {
   "cell_type": "markdown",
   "id": "4066c710",
   "metadata": {},
   "source": [
    "### Use XGBoost on test.csv"
   ]
  },
  {
   "cell_type": "code",
   "execution_count": 114,
   "id": "574db14a",
   "metadata": {},
   "outputs": [
    {
     "data": {
      "text/plain": [
       "(30000,)"
      ]
     },
     "execution_count": 114,
     "metadata": {},
     "output_type": "execute_result"
    }
   ],
   "source": [
    "test_xgboost_predict = xgb_clf.predict(test_csv)\n",
    "test_xgboost_predict.shape"
   ]
  },
  {
   "cell_type": "code",
   "execution_count": 115,
   "id": "75e48f36",
   "metadata": {},
   "outputs": [
    {
     "data": {
      "text/html": [
       "<div>\n",
       "<style scoped>\n",
       "    .dataframe tbody tr th:only-of-type {\n",
       "        vertical-align: middle;\n",
       "    }\n",
       "\n",
       "    .dataframe tbody tr th {\n",
       "        vertical-align: top;\n",
       "    }\n",
       "\n",
       "    .dataframe thead th {\n",
       "        text-align: right;\n",
       "    }\n",
       "</style>\n",
       "<table border=\"1\" class=\"dataframe\">\n",
       "  <thead>\n",
       "    <tr style=\"text-align: right;\">\n",
       "      <th></th>\n",
       "      <th>churn_probability</th>\n",
       "    </tr>\n",
       "  </thead>\n",
       "  <tbody>\n",
       "    <tr>\n",
       "      <th>0</th>\n",
       "      <td>0</td>\n",
       "    </tr>\n",
       "    <tr>\n",
       "      <th>1</th>\n",
       "      <td>0</td>\n",
       "    </tr>\n",
       "    <tr>\n",
       "      <th>2</th>\n",
       "      <td>1</td>\n",
       "    </tr>\n",
       "    <tr>\n",
       "      <th>3</th>\n",
       "      <td>0</td>\n",
       "    </tr>\n",
       "    <tr>\n",
       "      <th>4</th>\n",
       "      <td>0</td>\n",
       "    </tr>\n",
       "  </tbody>\n",
       "</table>\n",
       "</div>"
      ],
      "text/plain": [
       "   churn_probability\n",
       "0                  0\n",
       "1                  0\n",
       "2                  1\n",
       "3                  0\n",
       "4                  0"
      ]
     },
     "execution_count": 115,
     "metadata": {},
     "output_type": "execute_result"
    }
   ],
   "source": [
    "df_test_final = pd.DataFrame(test_xgboost_predict, columns = ['churn_probability'])\n",
    "df_test_final.head()"
   ]
  },
  {
   "cell_type": "code",
   "execution_count": 116,
   "id": "1099712f",
   "metadata": {},
   "outputs": [
    {
     "data": {
      "text/html": [
       "<div>\n",
       "<style scoped>\n",
       "    .dataframe tbody tr th:only-of-type {\n",
       "        vertical-align: middle;\n",
       "    }\n",
       "\n",
       "    .dataframe tbody tr th {\n",
       "        vertical-align: top;\n",
       "    }\n",
       "\n",
       "    .dataframe thead th {\n",
       "        text-align: right;\n",
       "    }\n",
       "</style>\n",
       "<table border=\"1\" class=\"dataframe\">\n",
       "  <thead>\n",
       "    <tr style=\"text-align: right;\">\n",
       "      <th></th>\n",
       "      <th>id</th>\n",
       "      <th>churn_probability</th>\n",
       "    </tr>\n",
       "  </thead>\n",
       "  <tbody>\n",
       "    <tr>\n",
       "      <th>0</th>\n",
       "      <td>69999</td>\n",
       "      <td>0</td>\n",
       "    </tr>\n",
       "    <tr>\n",
       "      <th>1</th>\n",
       "      <td>70000</td>\n",
       "      <td>0</td>\n",
       "    </tr>\n",
       "    <tr>\n",
       "      <th>2</th>\n",
       "      <td>70001</td>\n",
       "      <td>1</td>\n",
       "    </tr>\n",
       "    <tr>\n",
       "      <th>3</th>\n",
       "      <td>70002</td>\n",
       "      <td>0</td>\n",
       "    </tr>\n",
       "    <tr>\n",
       "      <th>4</th>\n",
       "      <td>70003</td>\n",
       "      <td>0</td>\n",
       "    </tr>\n",
       "  </tbody>\n",
       "</table>\n",
       "</div>"
      ],
      "text/plain": [
       "      id  churn_probability\n",
       "0  69999                  0\n",
       "1  70000                  0\n",
       "2  70001                  1\n",
       "3  70002                  0\n",
       "4  70003                  0"
      ]
     },
     "execution_count": 116,
     "metadata": {},
     "output_type": "execute_result"
    }
   ],
   "source": [
    "result = pd.concat([ID_test.reset_index(drop=True), df_test_final.reset_index(drop=True)], axis=1)\n",
    "result.head()"
   ]
  },
  {
   "cell_type": "code",
   "execution_count": 117,
   "id": "0291f1b0",
   "metadata": {},
   "outputs": [],
   "source": [
    "result.to_csv(\"solution_xgboost.csv\", index=False)"
   ]
  },
  {
   "cell_type": "markdown",
   "id": "72d6fcbf",
   "metadata": {},
   "source": [
    "#### Wanted to run XGboost with GridSearch, but its taking too much time to converge, so those readings and steps are not part of this notebook."
   ]
  },
  {
   "cell_type": "markdown",
   "id": "e4176cb9",
   "metadata": {},
   "source": [
    "## Summary\n",
    "\n",
    "### Model summary\n",
    "\n",
    "#### PCA + Linear Regression\n",
    "* Accuracy on Train: 0.8698\n",
    "* Accuracy on Test: 0.8734\n",
    "* Accuracy on test.csv (As per Kaggle): 0.90056\n",
    "\n",
    "#### Random Forest\n",
    "* Accuracy on Train: 0.9718\n",
    "* Accuracy on Test:  0.9353\n",
    "* Accuracy on test.csv (As per Kaggle): 0.94256\n",
    "\n",
    "#### PCA + Random Forest\n",
    "* Accuracy on Train: 0.9650\n",
    "* Accuracy on Test:  0.90\n",
    "\n",
    "#### XgBoost\n",
    "* Accuracy on Train: 0.9997\n",
    "* Accuracy on Test:  0.9603\n",
    "* Accuracy on Test.csv (As per Kaggle): 0.92486"
   ]
  },
  {
   "cell_type": "markdown",
   "id": "500ab13c",
   "metadata": {},
   "source": [
    "#### Performance of Random Forest without PCA is better, so Ramdon Forest will be the choosen model."
   ]
  },
  {
   "cell_type": "markdown",
   "id": "fb220d53",
   "metadata": {},
   "source": [
    "#### Customer with following properties are most likely to not-chrun\n",
    "\n",
    "* Customer calling between same network (onnet).\n",
    "* Customer with more incoming calls in roaming.\n",
    "* Customer with more special calls\n",
    "\n",
    "\n",
    "#### Customer with following properties are most likely to chrun:\n",
    "* Customer generating high revenue\n",
    "* Customer spending more on Recharge amount.\n",
    "* Customer with high number of incoming STD call.\n",
    "* Customer making high number of calls to external network call.\n",
    "* Customer with more number of outgoing call\n",
    "* Customer using 2G compared to 3G"
   ]
  }
 ],
 "metadata": {
  "kernelspec": {
   "display_name": "Python 3",
   "language": "python",
   "name": "python3"
  },
  "language_info": {
   "codemirror_mode": {
    "name": "ipython",
    "version": 3
   },
   "file_extension": ".py",
   "mimetype": "text/x-python",
   "name": "python",
   "nbconvert_exporter": "python",
   "pygments_lexer": "ipython3",
   "version": "3.7.13"
  }
 },
 "nbformat": 4,
 "nbformat_minor": 5
}
